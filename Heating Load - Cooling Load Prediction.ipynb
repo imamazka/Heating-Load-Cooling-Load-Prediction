{
  "cells": [
    {
      "cell_type": "markdown",
      "metadata": {
        "id": "fpSkFcchz3lt"
      },
      "source": [
        "Judul: Memprediksi *Heating Load* serta *Cooling Load* pada Suatu Bangunan dengan Delapan Paramter Bentuk Bangunan"
      ]
    },
    {
      "cell_type": "markdown",
      "source": [
        "Kelompok 3:\n",
        "1. Gemilang Bagas Ramadhani (2006535205)\n",
        "2. Imam Azka Ramadhan (2006577504)\n",
        "3. Muhammad Raihan Azhari (2006468320)\n",
        "4. Zana Niswah Awahita (2006577593)\n"
      ],
      "metadata": {
        "id": "5WabLxx_Szg4"
      }
    },
    {
      "cell_type": "markdown",
      "metadata": {
        "id": "glv7BNAL1Vvu"
      },
      "source": [
        "# Prolog"
      ]
    },
    {
      "cell_type": "markdown",
      "metadata": {
        "id": "ZIqsuJZW2fcq"
      },
      "source": [
        "## Teori singkat mengenai *heating load* dan *cooling load*"
      ]
    },
    {
      "cell_type": "markdown",
      "metadata": {
        "id": "-qDdP_st0E76"
      },
      "source": [
        "Berdasarkan situs dari *Building Sustainability Index* (BASIX), *heating load* didefinisikan sebagai jumlah dari energi panas yang harus ditambahkan kedalam sebuah ruangan untuk menjaga temperatur udara tetap nyaman untuk manusia. Sedangkan *cooling load* didefinisikan sebagai jumlah dari energi panas yang harus diambil dari sebuah ruangan untuk menjaga temperatur udara tetap nyaman untuk manusia. kedua hal tersebut bisa disebut thermal load.\n",
        "\n",
        "*Thermal load* yang rendah menandakan bangunan hanya memerlukan sedikit energi untuk mengembalikan suhu idealnya. beberapa bangunan bahkan dirancang untuk nyaman dihuni tanpa *air conditioner* atau *space heater*."
      ]
    },
    {
      "cell_type": "markdown",
      "metadata": {
        "id": "00XuabVC2y7G"
      },
      "source": [
        "## Penjelasan tentang dataset"
      ]
    },
    {
      "cell_type": "markdown",
      "metadata": {
        "id": "WS1JdVgYhB54"
      },
      "source": [
        "Dataset yang kami gunakan sendiri dihasilkan dari simulasi analisis energi dari 12 model dasar dari bangunan yang berbeda menggunakan Autodesk Ecotect Analysis. 12 bangunan tersebut berbeda dalam beberapa parameter, yaitu:\n",
        "\n",
        "*   Relative compactness (X1)\n",
        "*   Surface area (X2)\n",
        "*   Wall area (X3)\n",
        "*   Roof area (X4)\n",
        "*   Overall height (X5)\n",
        "*   Orientation (X6)\n",
        "*   Glazing area (X7)\n",
        "*   Glazing area Distribution (X8)\n",
        "\n",
        "lalu, parameter tersebut akan menentukan nilai dari heating load (Y1) dan cooling load (Y2)\n",
        "\n",
        "12 model dasar tersebut memiliki memiliki beberapa parameter yang statis, yaitu relative compactness, surface area, wall area dan roof area. sedangkan untuk parameter yang bervariasi adalah overall height, orientation, glazing area dan glazing area distribution. parameter yang bervariasi tadi membuat dataset memiliki 768 model bangunan yang berbeda, dengan nilai heating load dan cooling load masing-masing.\n",
        "\n",
        "Selanjutnya, data tersebut akan dicari korelasinya untuk mendesain bangunan agar nilai cooling load dan heating load-nya optimal yang menentukan seberapa layak huni suatu bangunan."
      ]
    },
    {
      "cell_type": "code",
      "source": [
        ""
      ],
      "metadata": {
        "id": "8cFC0zz3T8ff"
      },
      "execution_count": null,
      "outputs": []
    },
    {
      "cell_type": "markdown",
      "metadata": {
        "id": "Wj6Zn5Z82SMK"
      },
      "source": [
        "# Dataset"
      ]
    },
    {
      "cell_type": "code",
      "execution_count": null,
      "metadata": {
        "id": "mixacAd2IwWz"
      },
      "outputs": [],
      "source": [
        "#meng-import data dan library yang akan dipakai\n",
        "\n",
        "import pandas as pd\n",
        "import numpy as np\n",
        "import matplotlib.pyplot as plt\n",
        "import seaborn as sns\n",
        "from sklearn.linear_model import LinearRegression\n",
        "from sklearn.preprocessing import PolynomialFeatures\n",
        "\n",
        "\n",
        "url = \"https://raw.githubusercontent.com/gemilvng/ProyekAkhirAlinLanjut/main/energyefficiency_dataset_clean.csv\"\n",
        "df = pd.read_csv(url)\n",
        "df.columns = ['relative_compactness', 'surface_area', 'wall_area', 'roof_area', 'overall_height', 'orientation', 'glazing_area', 'glazing_area_distribution', 'heating_load', 'cooling_load']"
      ]
    },
    {
      "cell_type": "code",
      "execution_count": null,
      "metadata": {
        "id": "6AoV-31S96bf",
        "colab": {
          "base_uri": "https://localhost:8080/"
        },
        "outputId": "63e7be2a-75e7-4cc3-f6e7-299e3569ecc9"
      },
      "outputs": [
        {
          "output_type": "execute_result",
          "data": {
            "text/plain": [
              "    relative_compactness  surface_area  wall_area  roof_area  overall_height  \\\n",
              "0                   0.98         514.5      294.0     110.25             7.0   \n",
              "1                   0.98         514.5      294.0     110.25             7.0   \n",
              "2                   0.98         514.5      294.0     110.25             7.0   \n",
              "3                   0.98         514.5      294.0     110.25             7.0   \n",
              "4                   0.90         563.5      318.5     122.50             7.0   \n",
              "..                   ...           ...        ...        ...             ...   \n",
              "65                  0.79         637.0      343.0     147.00             7.0   \n",
              "66                  0.79         637.0      343.0     147.00             7.0   \n",
              "67                  0.79         637.0      343.0     147.00             7.0   \n",
              "68                  0.76         661.5      416.5     122.50             7.0   \n",
              "69                  0.76         661.5      416.5     122.50             7.0   \n",
              "\n",
              "    orientation  glazing_area  glazing_area_distribution  heating_load  \\\n",
              "0             2           0.0                          0         15.55   \n",
              "1             3           0.0                          0         15.55   \n",
              "2             4           0.0                          0         15.55   \n",
              "3             5           0.0                          0         15.55   \n",
              "4             2           0.0                          0         20.84   \n",
              "..          ...           ...                        ...           ...   \n",
              "65            3           0.1                          1         37.12   \n",
              "66            4           0.1                          1         36.90   \n",
              "67            5           0.1                          1         35.94   \n",
              "68            2           0.1                          1         32.96   \n",
              "69            3           0.1                          1         32.12   \n",
              "\n",
              "    cooling_load  \n",
              "0          21.33  \n",
              "1          21.33  \n",
              "2          21.33  \n",
              "3          21.33  \n",
              "4          28.28  \n",
              "..           ...  \n",
              "65         35.28  \n",
              "66         34.43  \n",
              "67         43.33  \n",
              "68         33.87  \n",
              "69         34.07  \n",
              "\n",
              "[70 rows x 10 columns]"
            ],
            "text/html": [
              "\n",
              "  <div id=\"df-d0cae64b-3943-4338-a116-b3076a455dee\">\n",
              "    <div class=\"colab-df-container\">\n",
              "      <div>\n",
              "<style scoped>\n",
              "    .dataframe tbody tr th:only-of-type {\n",
              "        vertical-align: middle;\n",
              "    }\n",
              "\n",
              "    .dataframe tbody tr th {\n",
              "        vertical-align: top;\n",
              "    }\n",
              "\n",
              "    .dataframe thead th {\n",
              "        text-align: right;\n",
              "    }\n",
              "</style>\n",
              "<table border=\"1\" class=\"dataframe\">\n",
              "  <thead>\n",
              "    <tr style=\"text-align: right;\">\n",
              "      <th></th>\n",
              "      <th>relative_compactness</th>\n",
              "      <th>surface_area</th>\n",
              "      <th>wall_area</th>\n",
              "      <th>roof_area</th>\n",
              "      <th>overall_height</th>\n",
              "      <th>orientation</th>\n",
              "      <th>glazing_area</th>\n",
              "      <th>glazing_area_distribution</th>\n",
              "      <th>heating_load</th>\n",
              "      <th>cooling_load</th>\n",
              "    </tr>\n",
              "  </thead>\n",
              "  <tbody>\n",
              "    <tr>\n",
              "      <th>0</th>\n",
              "      <td>0.98</td>\n",
              "      <td>514.5</td>\n",
              "      <td>294.0</td>\n",
              "      <td>110.25</td>\n",
              "      <td>7.0</td>\n",
              "      <td>2</td>\n",
              "      <td>0.0</td>\n",
              "      <td>0</td>\n",
              "      <td>15.55</td>\n",
              "      <td>21.33</td>\n",
              "    </tr>\n",
              "    <tr>\n",
              "      <th>1</th>\n",
              "      <td>0.98</td>\n",
              "      <td>514.5</td>\n",
              "      <td>294.0</td>\n",
              "      <td>110.25</td>\n",
              "      <td>7.0</td>\n",
              "      <td>3</td>\n",
              "      <td>0.0</td>\n",
              "      <td>0</td>\n",
              "      <td>15.55</td>\n",
              "      <td>21.33</td>\n",
              "    </tr>\n",
              "    <tr>\n",
              "      <th>2</th>\n",
              "      <td>0.98</td>\n",
              "      <td>514.5</td>\n",
              "      <td>294.0</td>\n",
              "      <td>110.25</td>\n",
              "      <td>7.0</td>\n",
              "      <td>4</td>\n",
              "      <td>0.0</td>\n",
              "      <td>0</td>\n",
              "      <td>15.55</td>\n",
              "      <td>21.33</td>\n",
              "    </tr>\n",
              "    <tr>\n",
              "      <th>3</th>\n",
              "      <td>0.98</td>\n",
              "      <td>514.5</td>\n",
              "      <td>294.0</td>\n",
              "      <td>110.25</td>\n",
              "      <td>7.0</td>\n",
              "      <td>5</td>\n",
              "      <td>0.0</td>\n",
              "      <td>0</td>\n",
              "      <td>15.55</td>\n",
              "      <td>21.33</td>\n",
              "    </tr>\n",
              "    <tr>\n",
              "      <th>4</th>\n",
              "      <td>0.90</td>\n",
              "      <td>563.5</td>\n",
              "      <td>318.5</td>\n",
              "      <td>122.50</td>\n",
              "      <td>7.0</td>\n",
              "      <td>2</td>\n",
              "      <td>0.0</td>\n",
              "      <td>0</td>\n",
              "      <td>20.84</td>\n",
              "      <td>28.28</td>\n",
              "    </tr>\n",
              "    <tr>\n",
              "      <th>...</th>\n",
              "      <td>...</td>\n",
              "      <td>...</td>\n",
              "      <td>...</td>\n",
              "      <td>...</td>\n",
              "      <td>...</td>\n",
              "      <td>...</td>\n",
              "      <td>...</td>\n",
              "      <td>...</td>\n",
              "      <td>...</td>\n",
              "      <td>...</td>\n",
              "    </tr>\n",
              "    <tr>\n",
              "      <th>65</th>\n",
              "      <td>0.79</td>\n",
              "      <td>637.0</td>\n",
              "      <td>343.0</td>\n",
              "      <td>147.00</td>\n",
              "      <td>7.0</td>\n",
              "      <td>3</td>\n",
              "      <td>0.1</td>\n",
              "      <td>1</td>\n",
              "      <td>37.12</td>\n",
              "      <td>35.28</td>\n",
              "    </tr>\n",
              "    <tr>\n",
              "      <th>66</th>\n",
              "      <td>0.79</td>\n",
              "      <td>637.0</td>\n",
              "      <td>343.0</td>\n",
              "      <td>147.00</td>\n",
              "      <td>7.0</td>\n",
              "      <td>4</td>\n",
              "      <td>0.1</td>\n",
              "      <td>1</td>\n",
              "      <td>36.90</td>\n",
              "      <td>34.43</td>\n",
              "    </tr>\n",
              "    <tr>\n",
              "      <th>67</th>\n",
              "      <td>0.79</td>\n",
              "      <td>637.0</td>\n",
              "      <td>343.0</td>\n",
              "      <td>147.00</td>\n",
              "      <td>7.0</td>\n",
              "      <td>5</td>\n",
              "      <td>0.1</td>\n",
              "      <td>1</td>\n",
              "      <td>35.94</td>\n",
              "      <td>43.33</td>\n",
              "    </tr>\n",
              "    <tr>\n",
              "      <th>68</th>\n",
              "      <td>0.76</td>\n",
              "      <td>661.5</td>\n",
              "      <td>416.5</td>\n",
              "      <td>122.50</td>\n",
              "      <td>7.0</td>\n",
              "      <td>2</td>\n",
              "      <td>0.1</td>\n",
              "      <td>1</td>\n",
              "      <td>32.96</td>\n",
              "      <td>33.87</td>\n",
              "    </tr>\n",
              "    <tr>\n",
              "      <th>69</th>\n",
              "      <td>0.76</td>\n",
              "      <td>661.5</td>\n",
              "      <td>416.5</td>\n",
              "      <td>122.50</td>\n",
              "      <td>7.0</td>\n",
              "      <td>3</td>\n",
              "      <td>0.1</td>\n",
              "      <td>1</td>\n",
              "      <td>32.12</td>\n",
              "      <td>34.07</td>\n",
              "    </tr>\n",
              "  </tbody>\n",
              "</table>\n",
              "<p>70 rows × 10 columns</p>\n",
              "</div>\n",
              "      <button class=\"colab-df-convert\" onclick=\"convertToInteractive('df-d0cae64b-3943-4338-a116-b3076a455dee')\"\n",
              "              title=\"Convert this dataframe to an interactive table.\"\n",
              "              style=\"display:none;\">\n",
              "        \n",
              "  <svg xmlns=\"http://www.w3.org/2000/svg\" height=\"24px\"viewBox=\"0 0 24 24\"\n",
              "       width=\"24px\">\n",
              "    <path d=\"M0 0h24v24H0V0z\" fill=\"none\"/>\n",
              "    <path d=\"M18.56 5.44l.94 2.06.94-2.06 2.06-.94-2.06-.94-.94-2.06-.94 2.06-2.06.94zm-11 1L8.5 8.5l.94-2.06 2.06-.94-2.06-.94L8.5 2.5l-.94 2.06-2.06.94zm10 10l.94 2.06.94-2.06 2.06-.94-2.06-.94-.94-2.06-.94 2.06-2.06.94z\"/><path d=\"M17.41 7.96l-1.37-1.37c-.4-.4-.92-.59-1.43-.59-.52 0-1.04.2-1.43.59L10.3 9.45l-7.72 7.72c-.78.78-.78 2.05 0 2.83L4 21.41c.39.39.9.59 1.41.59.51 0 1.02-.2 1.41-.59l7.78-7.78 2.81-2.81c.8-.78.8-2.07 0-2.86zM5.41 20L4 18.59l7.72-7.72 1.47 1.35L5.41 20z\"/>\n",
              "  </svg>\n",
              "      </button>\n",
              "      \n",
              "  <style>\n",
              "    .colab-df-container {\n",
              "      display:flex;\n",
              "      flex-wrap:wrap;\n",
              "      gap: 12px;\n",
              "    }\n",
              "\n",
              "    .colab-df-convert {\n",
              "      background-color: #E8F0FE;\n",
              "      border: none;\n",
              "      border-radius: 50%;\n",
              "      cursor: pointer;\n",
              "      display: none;\n",
              "      fill: #1967D2;\n",
              "      height: 32px;\n",
              "      padding: 0 0 0 0;\n",
              "      width: 32px;\n",
              "    }\n",
              "\n",
              "    .colab-df-convert:hover {\n",
              "      background-color: #E2EBFA;\n",
              "      box-shadow: 0px 1px 2px rgba(60, 64, 67, 0.3), 0px 1px 3px 1px rgba(60, 64, 67, 0.15);\n",
              "      fill: #174EA6;\n",
              "    }\n",
              "\n",
              "    [theme=dark] .colab-df-convert {\n",
              "      background-color: #3B4455;\n",
              "      fill: #D2E3FC;\n",
              "    }\n",
              "\n",
              "    [theme=dark] .colab-df-convert:hover {\n",
              "      background-color: #434B5C;\n",
              "      box-shadow: 0px 1px 3px 1px rgba(0, 0, 0, 0.15);\n",
              "      filter: drop-shadow(0px 1px 2px rgba(0, 0, 0, 0.3));\n",
              "      fill: #FFFFFF;\n",
              "    }\n",
              "  </style>\n",
              "\n",
              "      <script>\n",
              "        const buttonEl =\n",
              "          document.querySelector('#df-d0cae64b-3943-4338-a116-b3076a455dee button.colab-df-convert');\n",
              "        buttonEl.style.display =\n",
              "          google.colab.kernel.accessAllowed ? 'block' : 'none';\n",
              "\n",
              "        async function convertToInteractive(key) {\n",
              "          const element = document.querySelector('#df-d0cae64b-3943-4338-a116-b3076a455dee');\n",
              "          const dataTable =\n",
              "            await google.colab.kernel.invokeFunction('convertToInteractive',\n",
              "                                                     [key], {});\n",
              "          if (!dataTable) return;\n",
              "\n",
              "          const docLinkHtml = 'Like what you see? Visit the ' +\n",
              "            '<a target=\"_blank\" href=https://colab.research.google.com/notebooks/data_table.ipynb>data table notebook</a>'\n",
              "            + ' to learn more about interactive tables.';\n",
              "          element.innerHTML = '';\n",
              "          dataTable['output_type'] = 'display_data';\n",
              "          await google.colab.output.renderOutput(dataTable, element);\n",
              "          const docLink = document.createElement('div');\n",
              "          docLink.innerHTML = docLinkHtml;\n",
              "          element.appendChild(docLink);\n",
              "        }\n",
              "      </script>\n",
              "    </div>\n",
              "  </div>\n",
              "  "
            ]
          },
          "metadata": {},
          "execution_count": 2
        }
      ],
      "source": [
        "df.head(70)"
      ]
    },
    {
      "cell_type": "code",
      "execution_count": null,
      "metadata": {
        "id": "IxKeHvVjRCKX",
        "colab": {
          "base_uri": "https://localhost:8080/"
        },
        "outputId": "a1d797cf-442a-4675-8bd1-ca8a3ce85774"
      },
      "outputs": [
        {
          "output_type": "execute_result",
          "data": {
            "text/plain": [
              "     relative_compactness  surface_area  wall_area  roof_area  overall_height  \\\n",
              "758                  0.66         759.5      318.5      220.5             3.5   \n",
              "759                  0.66         759.5      318.5      220.5             3.5   \n",
              "760                  0.64         784.0      343.0      220.5             3.5   \n",
              "761                  0.64         784.0      343.0      220.5             3.5   \n",
              "762                  0.64         784.0      343.0      220.5             3.5   \n",
              "763                  0.64         784.0      343.0      220.5             3.5   \n",
              "764                  0.62         808.5      367.5      220.5             3.5   \n",
              "765                  0.62         808.5      367.5      220.5             3.5   \n",
              "766                  0.62         808.5      367.5      220.5             3.5   \n",
              "767                  0.62         808.5      367.5      220.5             3.5   \n",
              "\n",
              "     orientation  glazing_area  glazing_area_distribution  heating_load  \\\n",
              "758            4           0.4                          5         14.92   \n",
              "759            5           0.4                          5         15.16   \n",
              "760            2           0.4                          5         17.69   \n",
              "761            3           0.4                          5         18.19   \n",
              "762            4           0.4                          5         18.16   \n",
              "763            5           0.4                          5         17.88   \n",
              "764            2           0.4                          5         16.54   \n",
              "765            3           0.4                          5         16.44   \n",
              "766            4           0.4                          5         16.48   \n",
              "767            5           0.4                          5         16.64   \n",
              "\n",
              "     cooling_load  \n",
              "758         17.55  \n",
              "759         18.06  \n",
              "760         20.82  \n",
              "761         20.21  \n",
              "762         20.71  \n",
              "763         21.40  \n",
              "764         16.88  \n",
              "765         17.11  \n",
              "766         16.61  \n",
              "767         16.03  "
            ],
            "text/html": [
              "\n",
              "  <div id=\"df-31c1e8b9-1277-4714-a661-80d1ded62229\">\n",
              "    <div class=\"colab-df-container\">\n",
              "      <div>\n",
              "<style scoped>\n",
              "    .dataframe tbody tr th:only-of-type {\n",
              "        vertical-align: middle;\n",
              "    }\n",
              "\n",
              "    .dataframe tbody tr th {\n",
              "        vertical-align: top;\n",
              "    }\n",
              "\n",
              "    .dataframe thead th {\n",
              "        text-align: right;\n",
              "    }\n",
              "</style>\n",
              "<table border=\"1\" class=\"dataframe\">\n",
              "  <thead>\n",
              "    <tr style=\"text-align: right;\">\n",
              "      <th></th>\n",
              "      <th>relative_compactness</th>\n",
              "      <th>surface_area</th>\n",
              "      <th>wall_area</th>\n",
              "      <th>roof_area</th>\n",
              "      <th>overall_height</th>\n",
              "      <th>orientation</th>\n",
              "      <th>glazing_area</th>\n",
              "      <th>glazing_area_distribution</th>\n",
              "      <th>heating_load</th>\n",
              "      <th>cooling_load</th>\n",
              "    </tr>\n",
              "  </thead>\n",
              "  <tbody>\n",
              "    <tr>\n",
              "      <th>758</th>\n",
              "      <td>0.66</td>\n",
              "      <td>759.5</td>\n",
              "      <td>318.5</td>\n",
              "      <td>220.5</td>\n",
              "      <td>3.5</td>\n",
              "      <td>4</td>\n",
              "      <td>0.4</td>\n",
              "      <td>5</td>\n",
              "      <td>14.92</td>\n",
              "      <td>17.55</td>\n",
              "    </tr>\n",
              "    <tr>\n",
              "      <th>759</th>\n",
              "      <td>0.66</td>\n",
              "      <td>759.5</td>\n",
              "      <td>318.5</td>\n",
              "      <td>220.5</td>\n",
              "      <td>3.5</td>\n",
              "      <td>5</td>\n",
              "      <td>0.4</td>\n",
              "      <td>5</td>\n",
              "      <td>15.16</td>\n",
              "      <td>18.06</td>\n",
              "    </tr>\n",
              "    <tr>\n",
              "      <th>760</th>\n",
              "      <td>0.64</td>\n",
              "      <td>784.0</td>\n",
              "      <td>343.0</td>\n",
              "      <td>220.5</td>\n",
              "      <td>3.5</td>\n",
              "      <td>2</td>\n",
              "      <td>0.4</td>\n",
              "      <td>5</td>\n",
              "      <td>17.69</td>\n",
              "      <td>20.82</td>\n",
              "    </tr>\n",
              "    <tr>\n",
              "      <th>761</th>\n",
              "      <td>0.64</td>\n",
              "      <td>784.0</td>\n",
              "      <td>343.0</td>\n",
              "      <td>220.5</td>\n",
              "      <td>3.5</td>\n",
              "      <td>3</td>\n",
              "      <td>0.4</td>\n",
              "      <td>5</td>\n",
              "      <td>18.19</td>\n",
              "      <td>20.21</td>\n",
              "    </tr>\n",
              "    <tr>\n",
              "      <th>762</th>\n",
              "      <td>0.64</td>\n",
              "      <td>784.0</td>\n",
              "      <td>343.0</td>\n",
              "      <td>220.5</td>\n",
              "      <td>3.5</td>\n",
              "      <td>4</td>\n",
              "      <td>0.4</td>\n",
              "      <td>5</td>\n",
              "      <td>18.16</td>\n",
              "      <td>20.71</td>\n",
              "    </tr>\n",
              "    <tr>\n",
              "      <th>763</th>\n",
              "      <td>0.64</td>\n",
              "      <td>784.0</td>\n",
              "      <td>343.0</td>\n",
              "      <td>220.5</td>\n",
              "      <td>3.5</td>\n",
              "      <td>5</td>\n",
              "      <td>0.4</td>\n",
              "      <td>5</td>\n",
              "      <td>17.88</td>\n",
              "      <td>21.40</td>\n",
              "    </tr>\n",
              "    <tr>\n",
              "      <th>764</th>\n",
              "      <td>0.62</td>\n",
              "      <td>808.5</td>\n",
              "      <td>367.5</td>\n",
              "      <td>220.5</td>\n",
              "      <td>3.5</td>\n",
              "      <td>2</td>\n",
              "      <td>0.4</td>\n",
              "      <td>5</td>\n",
              "      <td>16.54</td>\n",
              "      <td>16.88</td>\n",
              "    </tr>\n",
              "    <tr>\n",
              "      <th>765</th>\n",
              "      <td>0.62</td>\n",
              "      <td>808.5</td>\n",
              "      <td>367.5</td>\n",
              "      <td>220.5</td>\n",
              "      <td>3.5</td>\n",
              "      <td>3</td>\n",
              "      <td>0.4</td>\n",
              "      <td>5</td>\n",
              "      <td>16.44</td>\n",
              "      <td>17.11</td>\n",
              "    </tr>\n",
              "    <tr>\n",
              "      <th>766</th>\n",
              "      <td>0.62</td>\n",
              "      <td>808.5</td>\n",
              "      <td>367.5</td>\n",
              "      <td>220.5</td>\n",
              "      <td>3.5</td>\n",
              "      <td>4</td>\n",
              "      <td>0.4</td>\n",
              "      <td>5</td>\n",
              "      <td>16.48</td>\n",
              "      <td>16.61</td>\n",
              "    </tr>\n",
              "    <tr>\n",
              "      <th>767</th>\n",
              "      <td>0.62</td>\n",
              "      <td>808.5</td>\n",
              "      <td>367.5</td>\n",
              "      <td>220.5</td>\n",
              "      <td>3.5</td>\n",
              "      <td>5</td>\n",
              "      <td>0.4</td>\n",
              "      <td>5</td>\n",
              "      <td>16.64</td>\n",
              "      <td>16.03</td>\n",
              "    </tr>\n",
              "  </tbody>\n",
              "</table>\n",
              "</div>\n",
              "      <button class=\"colab-df-convert\" onclick=\"convertToInteractive('df-31c1e8b9-1277-4714-a661-80d1ded62229')\"\n",
              "              title=\"Convert this dataframe to an interactive table.\"\n",
              "              style=\"display:none;\">\n",
              "        \n",
              "  <svg xmlns=\"http://www.w3.org/2000/svg\" height=\"24px\"viewBox=\"0 0 24 24\"\n",
              "       width=\"24px\">\n",
              "    <path d=\"M0 0h24v24H0V0z\" fill=\"none\"/>\n",
              "    <path d=\"M18.56 5.44l.94 2.06.94-2.06 2.06-.94-2.06-.94-.94-2.06-.94 2.06-2.06.94zm-11 1L8.5 8.5l.94-2.06 2.06-.94-2.06-.94L8.5 2.5l-.94 2.06-2.06.94zm10 10l.94 2.06.94-2.06 2.06-.94-2.06-.94-.94-2.06-.94 2.06-2.06.94z\"/><path d=\"M17.41 7.96l-1.37-1.37c-.4-.4-.92-.59-1.43-.59-.52 0-1.04.2-1.43.59L10.3 9.45l-7.72 7.72c-.78.78-.78 2.05 0 2.83L4 21.41c.39.39.9.59 1.41.59.51 0 1.02-.2 1.41-.59l7.78-7.78 2.81-2.81c.8-.78.8-2.07 0-2.86zM5.41 20L4 18.59l7.72-7.72 1.47 1.35L5.41 20z\"/>\n",
              "  </svg>\n",
              "      </button>\n",
              "      \n",
              "  <style>\n",
              "    .colab-df-container {\n",
              "      display:flex;\n",
              "      flex-wrap:wrap;\n",
              "      gap: 12px;\n",
              "    }\n",
              "\n",
              "    .colab-df-convert {\n",
              "      background-color: #E8F0FE;\n",
              "      border: none;\n",
              "      border-radius: 50%;\n",
              "      cursor: pointer;\n",
              "      display: none;\n",
              "      fill: #1967D2;\n",
              "      height: 32px;\n",
              "      padding: 0 0 0 0;\n",
              "      width: 32px;\n",
              "    }\n",
              "\n",
              "    .colab-df-convert:hover {\n",
              "      background-color: #E2EBFA;\n",
              "      box-shadow: 0px 1px 2px rgba(60, 64, 67, 0.3), 0px 1px 3px 1px rgba(60, 64, 67, 0.15);\n",
              "      fill: #174EA6;\n",
              "    }\n",
              "\n",
              "    [theme=dark] .colab-df-convert {\n",
              "      background-color: #3B4455;\n",
              "      fill: #D2E3FC;\n",
              "    }\n",
              "\n",
              "    [theme=dark] .colab-df-convert:hover {\n",
              "      background-color: #434B5C;\n",
              "      box-shadow: 0px 1px 3px 1px rgba(0, 0, 0, 0.15);\n",
              "      filter: drop-shadow(0px 1px 2px rgba(0, 0, 0, 0.3));\n",
              "      fill: #FFFFFF;\n",
              "    }\n",
              "  </style>\n",
              "\n",
              "      <script>\n",
              "        const buttonEl =\n",
              "          document.querySelector('#df-31c1e8b9-1277-4714-a661-80d1ded62229 button.colab-df-convert');\n",
              "        buttonEl.style.display =\n",
              "          google.colab.kernel.accessAllowed ? 'block' : 'none';\n",
              "\n",
              "        async function convertToInteractive(key) {\n",
              "          const element = document.querySelector('#df-31c1e8b9-1277-4714-a661-80d1ded62229');\n",
              "          const dataTable =\n",
              "            await google.colab.kernel.invokeFunction('convertToInteractive',\n",
              "                                                     [key], {});\n",
              "          if (!dataTable) return;\n",
              "\n",
              "          const docLinkHtml = 'Like what you see? Visit the ' +\n",
              "            '<a target=\"_blank\" href=https://colab.research.google.com/notebooks/data_table.ipynb>data table notebook</a>'\n",
              "            + ' to learn more about interactive tables.';\n",
              "          element.innerHTML = '';\n",
              "          dataTable['output_type'] = 'display_data';\n",
              "          await google.colab.output.renderOutput(dataTable, element);\n",
              "          const docLink = document.createElement('div');\n",
              "          docLink.innerHTML = docLinkHtml;\n",
              "          element.appendChild(docLink);\n",
              "        }\n",
              "      </script>\n",
              "    </div>\n",
              "  </div>\n",
              "  "
            ]
          },
          "metadata": {},
          "execution_count": 3
        }
      ],
      "source": [
        "df.tail(10)"
      ]
    },
    {
      "cell_type": "code",
      "execution_count": null,
      "metadata": {
        "id": "44TCD6ClRJ87",
        "colab": {
          "base_uri": "https://localhost:8080/"
        },
        "outputId": "b5fa5d80-c805-493d-c752-2b48132f6e93"
      },
      "outputs": [
        {
          "output_type": "execute_result",
          "data": {
            "text/plain": [
              "relative_compactness         0\n",
              "surface_area                 0\n",
              "wall_area                    0\n",
              "roof_area                    0\n",
              "overall_height               0\n",
              "orientation                  0\n",
              "glazing_area                 0\n",
              "glazing_area_distribution    0\n",
              "heating_load                 0\n",
              "cooling_load                 0\n",
              "dtype: int64"
            ]
          },
          "metadata": {},
          "execution_count": 4
        }
      ],
      "source": [
        "df.isnull().sum()"
      ]
    },
    {
      "cell_type": "code",
      "execution_count": null,
      "metadata": {
        "id": "mlLIpCFI9bnw",
        "colab": {
          "base_uri": "https://localhost:8080/"
        },
        "outputId": "3e8cbd0d-41db-4371-a0c5-f7db9051eff1"
      },
      "outputs": [
        {
          "output_type": "execute_result",
          "data": {
            "text/plain": [
              "relative_compactness         float64\n",
              "surface_area                 float64\n",
              "wall_area                    float64\n",
              "roof_area                    float64\n",
              "overall_height               float64\n",
              "orientation                    int64\n",
              "glazing_area                 float64\n",
              "glazing_area_distribution      int64\n",
              "heating_load                 float64\n",
              "cooling_load                 float64\n",
              "dtype: object"
            ]
          },
          "metadata": {},
          "execution_count": 5
        }
      ],
      "source": [
        "df.dtypes"
      ]
    },
    {
      "cell_type": "code",
      "execution_count": null,
      "metadata": {
        "id": "aOrrdhIZRfRy",
        "colab": {
          "base_uri": "https://localhost:8080/"
        },
        "outputId": "023f78e9-34e3-4856-fb3a-6add86ec96c8"
      },
      "outputs": [
        {
          "output_type": "execute_result",
          "data": {
            "text/plain": [
              "(768, 10)"
            ]
          },
          "metadata": {},
          "execution_count": 6
        }
      ],
      "source": [
        "df.shape"
      ]
    },
    {
      "cell_type": "code",
      "execution_count": null,
      "metadata": {
        "id": "oypPJ-Tq9g4f",
        "colab": {
          "base_uri": "https://localhost:8080/"
        },
        "outputId": "d5025830-2982-44fa-d0ce-1bb968c3b053"
      },
      "outputs": [
        {
          "output_type": "execute_result",
          "data": {
            "text/plain": [
              "       relative_compactness  surface_area   wall_area   roof_area  \\\n",
              "count            768.000000    768.000000  768.000000  768.000000   \n",
              "mean               0.764167    671.708333  318.500000  176.604167   \n",
              "std                0.105777     88.086116   43.626481   45.165950   \n",
              "min                0.620000    514.500000  245.000000  110.250000   \n",
              "25%                0.682500    606.375000  294.000000  140.875000   \n",
              "50%                0.750000    673.750000  318.500000  183.750000   \n",
              "75%                0.830000    741.125000  343.000000  220.500000   \n",
              "max                0.980000    808.500000  416.500000  220.500000   \n",
              "\n",
              "       overall_height  orientation  glazing_area  glazing_area_distribution  \\\n",
              "count       768.00000   768.000000    768.000000                  768.00000   \n",
              "mean          5.25000     3.500000      0.234375                    2.81250   \n",
              "std           1.75114     1.118763      0.133221                    1.55096   \n",
              "min           3.50000     2.000000      0.000000                    0.00000   \n",
              "25%           3.50000     2.750000      0.100000                    1.75000   \n",
              "50%           5.25000     3.500000      0.250000                    3.00000   \n",
              "75%           7.00000     4.250000      0.400000                    4.00000   \n",
              "max           7.00000     5.000000      0.400000                    5.00000   \n",
              "\n",
              "       heating_load  cooling_load  \n",
              "count    768.000000    768.000000  \n",
              "mean      22.307201     24.587760  \n",
              "std       10.090196      9.513306  \n",
              "min        6.010000     10.900000  \n",
              "25%       12.992500     15.620000  \n",
              "50%       18.950000     22.080000  \n",
              "75%       31.667500     33.132500  \n",
              "max       43.100000     48.030000  "
            ],
            "text/html": [
              "\n",
              "  <div id=\"df-5c067891-540b-4f33-9a42-465a4957fdaf\">\n",
              "    <div class=\"colab-df-container\">\n",
              "      <div>\n",
              "<style scoped>\n",
              "    .dataframe tbody tr th:only-of-type {\n",
              "        vertical-align: middle;\n",
              "    }\n",
              "\n",
              "    .dataframe tbody tr th {\n",
              "        vertical-align: top;\n",
              "    }\n",
              "\n",
              "    .dataframe thead th {\n",
              "        text-align: right;\n",
              "    }\n",
              "</style>\n",
              "<table border=\"1\" class=\"dataframe\">\n",
              "  <thead>\n",
              "    <tr style=\"text-align: right;\">\n",
              "      <th></th>\n",
              "      <th>relative_compactness</th>\n",
              "      <th>surface_area</th>\n",
              "      <th>wall_area</th>\n",
              "      <th>roof_area</th>\n",
              "      <th>overall_height</th>\n",
              "      <th>orientation</th>\n",
              "      <th>glazing_area</th>\n",
              "      <th>glazing_area_distribution</th>\n",
              "      <th>heating_load</th>\n",
              "      <th>cooling_load</th>\n",
              "    </tr>\n",
              "  </thead>\n",
              "  <tbody>\n",
              "    <tr>\n",
              "      <th>count</th>\n",
              "      <td>768.000000</td>\n",
              "      <td>768.000000</td>\n",
              "      <td>768.000000</td>\n",
              "      <td>768.000000</td>\n",
              "      <td>768.00000</td>\n",
              "      <td>768.000000</td>\n",
              "      <td>768.000000</td>\n",
              "      <td>768.00000</td>\n",
              "      <td>768.000000</td>\n",
              "      <td>768.000000</td>\n",
              "    </tr>\n",
              "    <tr>\n",
              "      <th>mean</th>\n",
              "      <td>0.764167</td>\n",
              "      <td>671.708333</td>\n",
              "      <td>318.500000</td>\n",
              "      <td>176.604167</td>\n",
              "      <td>5.25000</td>\n",
              "      <td>3.500000</td>\n",
              "      <td>0.234375</td>\n",
              "      <td>2.81250</td>\n",
              "      <td>22.307201</td>\n",
              "      <td>24.587760</td>\n",
              "    </tr>\n",
              "    <tr>\n",
              "      <th>std</th>\n",
              "      <td>0.105777</td>\n",
              "      <td>88.086116</td>\n",
              "      <td>43.626481</td>\n",
              "      <td>45.165950</td>\n",
              "      <td>1.75114</td>\n",
              "      <td>1.118763</td>\n",
              "      <td>0.133221</td>\n",
              "      <td>1.55096</td>\n",
              "      <td>10.090196</td>\n",
              "      <td>9.513306</td>\n",
              "    </tr>\n",
              "    <tr>\n",
              "      <th>min</th>\n",
              "      <td>0.620000</td>\n",
              "      <td>514.500000</td>\n",
              "      <td>245.000000</td>\n",
              "      <td>110.250000</td>\n",
              "      <td>3.50000</td>\n",
              "      <td>2.000000</td>\n",
              "      <td>0.000000</td>\n",
              "      <td>0.00000</td>\n",
              "      <td>6.010000</td>\n",
              "      <td>10.900000</td>\n",
              "    </tr>\n",
              "    <tr>\n",
              "      <th>25%</th>\n",
              "      <td>0.682500</td>\n",
              "      <td>606.375000</td>\n",
              "      <td>294.000000</td>\n",
              "      <td>140.875000</td>\n",
              "      <td>3.50000</td>\n",
              "      <td>2.750000</td>\n",
              "      <td>0.100000</td>\n",
              "      <td>1.75000</td>\n",
              "      <td>12.992500</td>\n",
              "      <td>15.620000</td>\n",
              "    </tr>\n",
              "    <tr>\n",
              "      <th>50%</th>\n",
              "      <td>0.750000</td>\n",
              "      <td>673.750000</td>\n",
              "      <td>318.500000</td>\n",
              "      <td>183.750000</td>\n",
              "      <td>5.25000</td>\n",
              "      <td>3.500000</td>\n",
              "      <td>0.250000</td>\n",
              "      <td>3.00000</td>\n",
              "      <td>18.950000</td>\n",
              "      <td>22.080000</td>\n",
              "    </tr>\n",
              "    <tr>\n",
              "      <th>75%</th>\n",
              "      <td>0.830000</td>\n",
              "      <td>741.125000</td>\n",
              "      <td>343.000000</td>\n",
              "      <td>220.500000</td>\n",
              "      <td>7.00000</td>\n",
              "      <td>4.250000</td>\n",
              "      <td>0.400000</td>\n",
              "      <td>4.00000</td>\n",
              "      <td>31.667500</td>\n",
              "      <td>33.132500</td>\n",
              "    </tr>\n",
              "    <tr>\n",
              "      <th>max</th>\n",
              "      <td>0.980000</td>\n",
              "      <td>808.500000</td>\n",
              "      <td>416.500000</td>\n",
              "      <td>220.500000</td>\n",
              "      <td>7.00000</td>\n",
              "      <td>5.000000</td>\n",
              "      <td>0.400000</td>\n",
              "      <td>5.00000</td>\n",
              "      <td>43.100000</td>\n",
              "      <td>48.030000</td>\n",
              "    </tr>\n",
              "  </tbody>\n",
              "</table>\n",
              "</div>\n",
              "      <button class=\"colab-df-convert\" onclick=\"convertToInteractive('df-5c067891-540b-4f33-9a42-465a4957fdaf')\"\n",
              "              title=\"Convert this dataframe to an interactive table.\"\n",
              "              style=\"display:none;\">\n",
              "        \n",
              "  <svg xmlns=\"http://www.w3.org/2000/svg\" height=\"24px\"viewBox=\"0 0 24 24\"\n",
              "       width=\"24px\">\n",
              "    <path d=\"M0 0h24v24H0V0z\" fill=\"none\"/>\n",
              "    <path d=\"M18.56 5.44l.94 2.06.94-2.06 2.06-.94-2.06-.94-.94-2.06-.94 2.06-2.06.94zm-11 1L8.5 8.5l.94-2.06 2.06-.94-2.06-.94L8.5 2.5l-.94 2.06-2.06.94zm10 10l.94 2.06.94-2.06 2.06-.94-2.06-.94-.94-2.06-.94 2.06-2.06.94z\"/><path d=\"M17.41 7.96l-1.37-1.37c-.4-.4-.92-.59-1.43-.59-.52 0-1.04.2-1.43.59L10.3 9.45l-7.72 7.72c-.78.78-.78 2.05 0 2.83L4 21.41c.39.39.9.59 1.41.59.51 0 1.02-.2 1.41-.59l7.78-7.78 2.81-2.81c.8-.78.8-2.07 0-2.86zM5.41 20L4 18.59l7.72-7.72 1.47 1.35L5.41 20z\"/>\n",
              "  </svg>\n",
              "      </button>\n",
              "      \n",
              "  <style>\n",
              "    .colab-df-container {\n",
              "      display:flex;\n",
              "      flex-wrap:wrap;\n",
              "      gap: 12px;\n",
              "    }\n",
              "\n",
              "    .colab-df-convert {\n",
              "      background-color: #E8F0FE;\n",
              "      border: none;\n",
              "      border-radius: 50%;\n",
              "      cursor: pointer;\n",
              "      display: none;\n",
              "      fill: #1967D2;\n",
              "      height: 32px;\n",
              "      padding: 0 0 0 0;\n",
              "      width: 32px;\n",
              "    }\n",
              "\n",
              "    .colab-df-convert:hover {\n",
              "      background-color: #E2EBFA;\n",
              "      box-shadow: 0px 1px 2px rgba(60, 64, 67, 0.3), 0px 1px 3px 1px rgba(60, 64, 67, 0.15);\n",
              "      fill: #174EA6;\n",
              "    }\n",
              "\n",
              "    [theme=dark] .colab-df-convert {\n",
              "      background-color: #3B4455;\n",
              "      fill: #D2E3FC;\n",
              "    }\n",
              "\n",
              "    [theme=dark] .colab-df-convert:hover {\n",
              "      background-color: #434B5C;\n",
              "      box-shadow: 0px 1px 3px 1px rgba(0, 0, 0, 0.15);\n",
              "      filter: drop-shadow(0px 1px 2px rgba(0, 0, 0, 0.3));\n",
              "      fill: #FFFFFF;\n",
              "    }\n",
              "  </style>\n",
              "\n",
              "      <script>\n",
              "        const buttonEl =\n",
              "          document.querySelector('#df-5c067891-540b-4f33-9a42-465a4957fdaf button.colab-df-convert');\n",
              "        buttonEl.style.display =\n",
              "          google.colab.kernel.accessAllowed ? 'block' : 'none';\n",
              "\n",
              "        async function convertToInteractive(key) {\n",
              "          const element = document.querySelector('#df-5c067891-540b-4f33-9a42-465a4957fdaf');\n",
              "          const dataTable =\n",
              "            await google.colab.kernel.invokeFunction('convertToInteractive',\n",
              "                                                     [key], {});\n",
              "          if (!dataTable) return;\n",
              "\n",
              "          const docLinkHtml = 'Like what you see? Visit the ' +\n",
              "            '<a target=\"_blank\" href=https://colab.research.google.com/notebooks/data_table.ipynb>data table notebook</a>'\n",
              "            + ' to learn more about interactive tables.';\n",
              "          element.innerHTML = '';\n",
              "          dataTable['output_type'] = 'display_data';\n",
              "          await google.colab.output.renderOutput(dataTable, element);\n",
              "          const docLink = document.createElement('div');\n",
              "          docLink.innerHTML = docLinkHtml;\n",
              "          element.appendChild(docLink);\n",
              "        }\n",
              "      </script>\n",
              "    </div>\n",
              "  </div>\n",
              "  "
            ]
          },
          "metadata": {},
          "execution_count": 7
        }
      ],
      "source": [
        "df.describe(include = \"all\")"
      ]
    },
    {
      "cell_type": "markdown",
      "metadata": {
        "id": "qFDQVOhTe1f9"
      },
      "source": [
        "# Bagian 3\n"
      ]
    },
    {
      "cell_type": "markdown",
      "metadata": {
        "id": "op7Q57hRZoAq"
      },
      "source": [
        "**Descriptive Statistics**\n",
        "\n",
        "---\n",
        "\n"
      ]
    },
    {
      "cell_type": "code",
      "execution_count": null,
      "metadata": {
        "id": "AZL_7ku6Z9TK",
        "colab": {
          "base_uri": "https://localhost:8080/",
          "height": 334
        },
        "outputId": "9126d5f7-c222-4e90-b0a3-bf4af3fad7f4"
      },
      "outputs": [
        {
          "output_type": "execute_result",
          "data": {
            "text/plain": [
              "(array([118., 204.,  61.,  29.,  73.,  94.,  98.,  56.,  21.,  14.]),\n",
              " array([10.9  , 14.613, 18.326, 22.039, 25.752, 29.465, 33.178, 36.891,\n",
              "        40.604, 44.317, 48.03 ]),\n",
              " <a list of 10 Patch objects>)"
            ]
          },
          "metadata": {},
          "execution_count": 8
        },
        {
          "output_type": "display_data",
          "data": {
            "text/plain": [
              "<Figure size 432x288 with 1 Axes>"
            ],
            "image/png": "[encoded data removed]"
          },
          "metadata": {
            "needs_background": "light"
          }
        }
      ],
      "source": [
        "plt.hist((df.heating_load))\n",
        "plt.hist((df.cooling_load))"
      ]
    },
    {
      "cell_type": "markdown",
      "metadata": {
        "id": "r6DN8xCWpOUo"
      },
      "source": [
        "'heating_load' dan 'cooling_load' memiliki hasil yang kebanyakan bernilai di antara 10-20, memiliki skewness *positively skewed*."
      ]
    },
    {
      "cell_type": "code",
      "execution_count": null,
      "metadata": {
        "id": "wnYTXhR2qlRJ",
        "colab": {
          "base_uri": "https://localhost:8080/",
          "height": 600
        },
        "outputId": "aac7efc3-993b-4a6b-d146-c4d5bb4be2a3"
      },
      "outputs": [
        {
          "output_type": "execute_result",
          "data": {
            "text/plain": [
              "array([[<matplotlib.axes._subplots.AxesSubplot object at 0x7fccdcf94690>,\n",
              "        <matplotlib.axes._subplots.AxesSubplot object at 0x7fccdcad4450>,\n",
              "        <matplotlib.axes._subplots.AxesSubplot object at 0x7fccdca8ca50>,\n",
              "        <matplotlib.axes._subplots.AxesSubplot object at 0x7fccdca37b50>],\n",
              "       [<matplotlib.axes._subplots.AxesSubplot object at 0x7fccdca03690>,\n",
              "        <matplotlib.axes._subplots.AxesSubplot object at 0x7fccdc9bbc90>,\n",
              "        <matplotlib.axes._subplots.AxesSubplot object at 0x7fccdc97f350>,\n",
              "        <matplotlib.axes._subplots.AxesSubplot object at 0x7fccdc935890>],\n",
              "       [<matplotlib.axes._subplots.AxesSubplot object at 0x7fccdc9358d0>,\n",
              "        <matplotlib.axes._subplots.AxesSubplot object at 0x7fccdc8ecfd0>,\n",
              "        <matplotlib.axes._subplots.AxesSubplot object at 0x7fccdc8e7b10>,\n",
              "        <matplotlib.axes._subplots.AxesSubplot object at 0x7fccdc82d150>]],\n",
              "      dtype=object)"
            ]
          },
          "metadata": {},
          "execution_count": 9
        },
        {
          "output_type": "display_data",
          "data": {
            "text/plain": [
              "<Figure size 1080x432 with 12 Axes>"
            ],
            "image/png": "[encoded data removed]"
          },
          "metadata": {
            "needs_background": "light"
          }
        }
      ],
      "source": [
        "df.plot(kind='density', subplots=True, layout=(3,4), figsize=(15,6), sharex=False, sharey=False)"
      ]
    },
    {
      "cell_type": "markdown",
      "metadata": {
        "id": "wG4oih4CrZ5E"
      },
      "source": [
        "Kebanyakan dari feature memiliki skewness yang *positively skewed*. Kemudian 'overral_height' dan 'orientation' memiliki distribusi yang rata."
      ]
    },
    {
      "cell_type": "markdown",
      "metadata": {
        "id": "g7FlzvCXZlIW"
      },
      "source": [
        "**Correlation**\n",
        "\n",
        "---\n",
        "\n"
      ]
    },
    {
      "cell_type": "code",
      "execution_count": null,
      "metadata": {
        "id": "3qVocUN_VCgG",
        "colab": {
          "base_uri": "https://localhost:8080/",
          "height": 363
        },
        "outputId": "6c04fd2c-44b2-4689-9e53-b4ef191a57bf"
      },
      "outputs": [
        {
          "output_type": "execute_result",
          "data": {
            "text/plain": [
              "<pandas.io.formats.style.Styler at 0x7fccda6560d0>"
            ],
            "text/html": [
              "<style type=\"text/css\">\n",
              "#T_784d2_row0_col0, #T_784d2_row1_col1, #T_784d2_row2_col2, #T_784d2_row3_col3, #T_784d2_row4_col4, #T_784d2_row5_col5, #T_784d2_row6_col6, #T_784d2_row7_col7, #T_784d2_row8_col8, #T_784d2_row9_col9 {\n",
              "  background-color: #b40426;\n",
              "  color: #f1f1f1;\n",
              "}\n",
              "#T_784d2_row0_col1, #T_784d2_row0_col5, #T_784d2_row0_col6, #T_784d2_row0_col7, #T_784d2_row1_col0, #T_784d2_row1_col5, #T_784d2_row1_col6, #T_784d2_row1_col7, #T_784d2_row2_col5, #T_784d2_row2_col6, #T_784d2_row2_col7, #T_784d2_row3_col2, #T_784d2_row3_col4, #T_784d2_row3_col5, #T_784d2_row3_col6, #T_784d2_row3_col7, #T_784d2_row3_col8, #T_784d2_row3_col9, #T_784d2_row4_col3, #T_784d2_row4_col5, #T_784d2_row4_col6, #T_784d2_row4_col7, #T_784d2_row5_col6, #T_784d2_row5_col7, #T_784d2_row6_col5, #T_784d2_row7_col5, #T_784d2_row8_col5 {\n",
              "  background-color: #3b4cc0;\n",
              "  color: #f1f1f1;\n",
              "}\n",
              "#T_784d2_row0_col2, #T_784d2_row4_col1 {\n",
              "  background-color: #4f69d9;\n",
              "  color: #f1f1f1;\n",
              "}\n",
              "#T_784d2_row0_col3 {\n",
              "  background-color: #4a63d3;\n",
              "  color: #f1f1f1;\n",
              "}\n",
              "#T_784d2_row0_col4, #T_784d2_row4_col0 {\n",
              "  background-color: #d24b40;\n",
              "  color: #f1f1f1;\n",
              "}\n",
              "#T_784d2_row0_col8 {\n",
              "  background-color: #ee8468;\n",
              "  color: #f1f1f1;\n",
              "}\n",
              "#T_784d2_row0_col9 {\n",
              "  background-color: #ed8366;\n",
              "  color: #f1f1f1;\n",
              "}\n",
              "#T_784d2_row1_col2 {\n",
              "  background-color: #b9d0f9;\n",
              "  color: #000000;\n",
              "}\n",
              "#T_784d2_row1_col3, #T_784d2_row3_col1, #T_784d2_row4_col8 {\n",
              "  background-color: #ca3b37;\n",
              "  color: #f1f1f1;\n",
              "}\n",
              "#T_784d2_row1_col4, #T_784d2_row8_col3, #T_784d2_row9_col3 {\n",
              "  background-color: #4b64d5;\n",
              "  color: #f1f1f1;\n",
              "}\n",
              "#T_784d2_row1_col8 {\n",
              "  background-color: #5d7ce6;\n",
              "  color: #f1f1f1;\n",
              "}\n",
              "#T_784d2_row1_col9 {\n",
              "  background-color: #5a78e4;\n",
              "  color: #f1f1f1;\n",
              "}\n",
              "#T_784d2_row2_col0 {\n",
              "  background-color: #bfd3f6;\n",
              "  color: #000000;\n",
              "}\n",
              "#T_784d2_row2_col1 {\n",
              "  background-color: #f1ccb8;\n",
              "  color: #000000;\n",
              "}\n",
              "#T_784d2_row2_col3 {\n",
              "  background-color: #aec9fc;\n",
              "  color: #000000;\n",
              "}\n",
              "#T_784d2_row2_col4 {\n",
              "  background-color: #f5c1a9;\n",
              "  color: #000000;\n",
              "}\n",
              "#T_784d2_row2_col8 {\n",
              "  background-color: #f7a98b;\n",
              "  color: #000000;\n",
              "}\n",
              "#T_784d2_row2_col9 {\n",
              "  background-color: #f7af91;\n",
              "  color: #000000;\n",
              "}\n",
              "#T_784d2_row3_col0 {\n",
              "  background-color: #4c66d6;\n",
              "  color: #f1f1f1;\n",
              "}\n",
              "#T_784d2_row4_col2 {\n",
              "  background-color: #cdd9ec;\n",
              "  color: #000000;\n",
              "}\n",
              "#T_784d2_row4_col9, #T_784d2_row8_col4 {\n",
              "  background-color: #c83836;\n",
              "  color: #f1f1f1;\n",
              "}\n",
              "#T_784d2_row5_col0, #T_784d2_row5_col1, #T_784d2_row6_col0, #T_784d2_row6_col1, #T_784d2_row7_col0, #T_784d2_row7_col1 {\n",
              "  background-color: #dcdddd;\n",
              "  color: #000000;\n",
              "}\n",
              "#T_784d2_row5_col2, #T_784d2_row6_col2, #T_784d2_row7_col2 {\n",
              "  background-color: #84a7fc;\n",
              "  color: #f1f1f1;\n",
              "}\n",
              "#T_784d2_row5_col3, #T_784d2_row5_col4, #T_784d2_row6_col3, #T_784d2_row6_col4, #T_784d2_row7_col3, #T_784d2_row7_col4 {\n",
              "  background-color: #dbdcde;\n",
              "  color: #000000;\n",
              "}\n",
              "#T_784d2_row5_col8 {\n",
              "  background-color: #d3dbe7;\n",
              "  color: #000000;\n",
              "}\n",
              "#T_784d2_row5_col9 {\n",
              "  background-color: #d5dbe5;\n",
              "  color: #000000;\n",
              "}\n",
              "#T_784d2_row6_col7, #T_784d2_row7_col6 {\n",
              "  background-color: #80a3fa;\n",
              "  color: #f1f1f1;\n",
              "}\n",
              "#T_784d2_row6_col8 {\n",
              "  background-color: #f2c9b4;\n",
              "  color: #000000;\n",
              "}\n",
              "#T_784d2_row6_col9 {\n",
              "  background-color: #eed0c0;\n",
              "  color: #000000;\n",
              "}\n",
              "#T_784d2_row7_col8 {\n",
              "  background-color: #dfdbd9;\n",
              "  color: #000000;\n",
              "}\n",
              "#T_784d2_row7_col9 {\n",
              "  background-color: #dadce0;\n",
              "  color: #000000;\n",
              "}\n",
              "#T_784d2_row8_col0 {\n",
              "  background-color: #ec7f63;\n",
              "  color: #f1f1f1;\n",
              "}\n",
              "#T_784d2_row8_col1 {\n",
              "  background-color: #6f92f3;\n",
              "  color: #f1f1f1;\n",
              "}\n",
              "#T_784d2_row8_col2 {\n",
              "  background-color: #efcfbf;\n",
              "  color: #000000;\n",
              "}\n",
              "#T_784d2_row8_col6 {\n",
              "  background-color: #94b6ff;\n",
              "  color: #000000;\n",
              "}\n",
              "#T_784d2_row8_col7 {\n",
              "  background-color: #5572df;\n",
              "  color: #f1f1f1;\n",
              "}\n",
              "#T_784d2_row8_col9, #T_784d2_row9_col8 {\n",
              "  background-color: #b8122a;\n",
              "  color: #f1f1f1;\n",
              "}\n",
              "#T_784d2_row9_col0 {\n",
              "  background-color: #ea7b60;\n",
              "  color: #f1f1f1;\n",
              "}\n",
              "#T_784d2_row9_col1 {\n",
              "  background-color: #6c8ff1;\n",
              "  color: #f1f1f1;\n",
              "}\n",
              "#T_784d2_row9_col2 {\n",
              "  background-color: #ead4c8;\n",
              "  color: #000000;\n",
              "}\n",
              "#T_784d2_row9_col4 {\n",
              "  background-color: #c73635;\n",
              "  color: #f1f1f1;\n",
              "}\n",
              "#T_784d2_row9_col5 {\n",
              "  background-color: #3f53c6;\n",
              "  color: #f1f1f1;\n",
              "}\n",
              "#T_784d2_row9_col6 {\n",
              "  background-color: #7ea1fa;\n",
              "  color: #f1f1f1;\n",
              "}\n",
              "#T_784d2_row9_col7 {\n",
              "  background-color: #4961d2;\n",
              "  color: #f1f1f1;\n",
              "}\n",
              "</style>\n",
              "<table id=\"T_784d2_\" class=\"dataframe\">\n",
              "  <thead>\n",
              "    <tr>\n",
              "      <th class=\"blank level0\" >&nbsp;</th>\n",
              "      <th class=\"col_heading level0 col0\" >relative_compactness</th>\n",
              "      <th class=\"col_heading level0 col1\" >surface_area</th>\n",
              "      <th class=\"col_heading level0 col2\" >wall_area</th>\n",
              "      <th class=\"col_heading level0 col3\" >roof_area</th>\n",
              "      <th class=\"col_heading level0 col4\" >overall_height</th>\n",
              "      <th class=\"col_heading level0 col5\" >orientation</th>\n",
              "      <th class=\"col_heading level0 col6\" >glazing_area</th>\n",
              "      <th class=\"col_heading level0 col7\" >glazing_area_distribution</th>\n",
              "      <th class=\"col_heading level0 col8\" >heating_load</th>\n",
              "      <th class=\"col_heading level0 col9\" >cooling_load</th>\n",
              "    </tr>\n",
              "  </thead>\n",
              "  <tbody>\n",
              "    <tr>\n",
              "      <th id=\"T_784d2_level0_row0\" class=\"row_heading level0 row0\" >relative_compactness</th>\n",
              "      <td id=\"T_784d2_row0_col0\" class=\"data row0 col0\" >1.000000</td>\n",
              "      <td id=\"T_784d2_row0_col1\" class=\"data row0 col1\" >-0.991901</td>\n",
              "      <td id=\"T_784d2_row0_col2\" class=\"data row0 col2\" >-0.203782</td>\n",
              "      <td id=\"T_784d2_row0_col3\" class=\"data row0 col3\" >-0.868823</td>\n",
              "      <td id=\"T_784d2_row0_col4\" class=\"data row0 col4\" >0.827747</td>\n",
              "      <td id=\"T_784d2_row0_col5\" class=\"data row0 col5\" >0.000000</td>\n",
              "      <td id=\"T_784d2_row0_col6\" class=\"data row0 col6\" >-0.000000</td>\n",
              "      <td id=\"T_784d2_row0_col7\" class=\"data row0 col7\" >-0.000000</td>\n",
              "      <td id=\"T_784d2_row0_col8\" class=\"data row0 col8\" >0.622272</td>\n",
              "      <td id=\"T_784d2_row0_col9\" class=\"data row0 col9\" >0.634339</td>\n",
              "    </tr>\n",
              "    <tr>\n",
              "      <th id=\"T_784d2_level0_row1\" class=\"row_heading level0 row1\" >surface_area</th>\n",
              "      <td id=\"T_784d2_row1_col0\" class=\"data row1 col0\" >-0.991901</td>\n",
              "      <td id=\"T_784d2_row1_col1\" class=\"data row1 col1\" >1.000000</td>\n",
              "      <td id=\"T_784d2_row1_col2\" class=\"data row1 col2\" >0.195502</td>\n",
              "      <td id=\"T_784d2_row1_col3\" class=\"data row1 col3\" >0.880720</td>\n",
              "      <td id=\"T_784d2_row1_col4\" class=\"data row1 col4\" >-0.858148</td>\n",
              "      <td id=\"T_784d2_row1_col5\" class=\"data row1 col5\" >-0.000000</td>\n",
              "      <td id=\"T_784d2_row1_col6\" class=\"data row1 col6\" >0.000000</td>\n",
              "      <td id=\"T_784d2_row1_col7\" class=\"data row1 col7\" >0.000000</td>\n",
              "      <td id=\"T_784d2_row1_col8\" class=\"data row1 col8\" >-0.658120</td>\n",
              "      <td id=\"T_784d2_row1_col9\" class=\"data row1 col9\" >-0.672999</td>\n",
              "    </tr>\n",
              "    <tr>\n",
              "      <th id=\"T_784d2_level0_row2\" class=\"row_heading level0 row2\" >wall_area</th>\n",
              "      <td id=\"T_784d2_row2_col0\" class=\"data row2 col0\" >-0.203782</td>\n",
              "      <td id=\"T_784d2_row2_col1\" class=\"data row2 col1\" >0.195502</td>\n",
              "      <td id=\"T_784d2_row2_col2\" class=\"data row2 col2\" >1.000000</td>\n",
              "      <td id=\"T_784d2_row2_col3\" class=\"data row2 col3\" >-0.292316</td>\n",
              "      <td id=\"T_784d2_row2_col4\" class=\"data row2 col4\" >0.280976</td>\n",
              "      <td id=\"T_784d2_row2_col5\" class=\"data row2 col5\" >-0.000000</td>\n",
              "      <td id=\"T_784d2_row2_col6\" class=\"data row2 col6\" >-0.000000</td>\n",
              "      <td id=\"T_784d2_row2_col7\" class=\"data row2 col7\" >0.000000</td>\n",
              "      <td id=\"T_784d2_row2_col8\" class=\"data row2 col8\" >0.455671</td>\n",
              "      <td id=\"T_784d2_row2_col9\" class=\"data row2 col9\" >0.427117</td>\n",
              "    </tr>\n",
              "    <tr>\n",
              "      <th id=\"T_784d2_level0_row3\" class=\"row_heading level0 row3\" >roof_area</th>\n",
              "      <td id=\"T_784d2_row3_col0\" class=\"data row3 col0\" >-0.868823</td>\n",
              "      <td id=\"T_784d2_row3_col1\" class=\"data row3 col1\" >0.880720</td>\n",
              "      <td id=\"T_784d2_row3_col2\" class=\"data row3 col2\" >-0.292316</td>\n",
              "      <td id=\"T_784d2_row3_col3\" class=\"data row3 col3\" >1.000000</td>\n",
              "      <td id=\"T_784d2_row3_col4\" class=\"data row3 col4\" >-0.972512</td>\n",
              "      <td id=\"T_784d2_row3_col5\" class=\"data row3 col5\" >-0.000000</td>\n",
              "      <td id=\"T_784d2_row3_col6\" class=\"data row3 col6\" >-0.000000</td>\n",
              "      <td id=\"T_784d2_row3_col7\" class=\"data row3 col7\" >-0.000000</td>\n",
              "      <td id=\"T_784d2_row3_col8\" class=\"data row3 col8\" >-0.861828</td>\n",
              "      <td id=\"T_784d2_row3_col9\" class=\"data row3 col9\" >-0.862547</td>\n",
              "    </tr>\n",
              "    <tr>\n",
              "      <th id=\"T_784d2_level0_row4\" class=\"row_heading level0 row4\" >overall_height</th>\n",
              "      <td id=\"T_784d2_row4_col0\" class=\"data row4 col0\" >0.827747</td>\n",
              "      <td id=\"T_784d2_row4_col1\" class=\"data row4 col1\" >-0.858148</td>\n",
              "      <td id=\"T_784d2_row4_col2\" class=\"data row4 col2\" >0.280976</td>\n",
              "      <td id=\"T_784d2_row4_col3\" class=\"data row4 col3\" >-0.972512</td>\n",
              "      <td id=\"T_784d2_row4_col4\" class=\"data row4 col4\" >1.000000</td>\n",
              "      <td id=\"T_784d2_row4_col5\" class=\"data row4 col5\" >0.000000</td>\n",
              "      <td id=\"T_784d2_row4_col6\" class=\"data row4 col6\" >0.000000</td>\n",
              "      <td id=\"T_784d2_row4_col7\" class=\"data row4 col7\" >-0.000000</td>\n",
              "      <td id=\"T_784d2_row4_col8\" class=\"data row4 col8\" >0.889431</td>\n",
              "      <td id=\"T_784d2_row4_col9\" class=\"data row4 col9\" >0.895785</td>\n",
              "    </tr>\n",
              "    <tr>\n",
              "      <th id=\"T_784d2_level0_row5\" class=\"row_heading level0 row5\" >orientation</th>\n",
              "      <td id=\"T_784d2_row5_col0\" class=\"data row5 col0\" >0.000000</td>\n",
              "      <td id=\"T_784d2_row5_col1\" class=\"data row5 col1\" >-0.000000</td>\n",
              "      <td id=\"T_784d2_row5_col2\" class=\"data row5 col2\" >-0.000000</td>\n",
              "      <td id=\"T_784d2_row5_col3\" class=\"data row5 col3\" >-0.000000</td>\n",
              "      <td id=\"T_784d2_row5_col4\" class=\"data row5 col4\" >0.000000</td>\n",
              "      <td id=\"T_784d2_row5_col5\" class=\"data row5 col5\" >1.000000</td>\n",
              "      <td id=\"T_784d2_row5_col6\" class=\"data row5 col6\" >-0.000000</td>\n",
              "      <td id=\"T_784d2_row5_col7\" class=\"data row5 col7\" >-0.000000</td>\n",
              "      <td id=\"T_784d2_row5_col8\" class=\"data row5 col8\" >-0.002587</td>\n",
              "      <td id=\"T_784d2_row5_col9\" class=\"data row5 col9\" >0.014290</td>\n",
              "    </tr>\n",
              "    <tr>\n",
              "      <th id=\"T_784d2_level0_row6\" class=\"row_heading level0 row6\" >glazing_area</th>\n",
              "      <td id=\"T_784d2_row6_col0\" class=\"data row6 col0\" >-0.000000</td>\n",
              "      <td id=\"T_784d2_row6_col1\" class=\"data row6 col1\" >0.000000</td>\n",
              "      <td id=\"T_784d2_row6_col2\" class=\"data row6 col2\" >-0.000000</td>\n",
              "      <td id=\"T_784d2_row6_col3\" class=\"data row6 col3\" >-0.000000</td>\n",
              "      <td id=\"T_784d2_row6_col4\" class=\"data row6 col4\" >0.000000</td>\n",
              "      <td id=\"T_784d2_row6_col5\" class=\"data row6 col5\" >-0.000000</td>\n",
              "      <td id=\"T_784d2_row6_col6\" class=\"data row6 col6\" >1.000000</td>\n",
              "      <td id=\"T_784d2_row6_col7\" class=\"data row6 col7\" >0.212964</td>\n",
              "      <td id=\"T_784d2_row6_col8\" class=\"data row6 col8\" >0.269841</td>\n",
              "      <td id=\"T_784d2_row6_col9\" class=\"data row6 col9\" >0.207505</td>\n",
              "    </tr>\n",
              "    <tr>\n",
              "      <th id=\"T_784d2_level0_row7\" class=\"row_heading level0 row7\" >glazing_area_distribution</th>\n",
              "      <td id=\"T_784d2_row7_col0\" class=\"data row7 col0\" >-0.000000</td>\n",
              "      <td id=\"T_784d2_row7_col1\" class=\"data row7 col1\" >0.000000</td>\n",
              "      <td id=\"T_784d2_row7_col2\" class=\"data row7 col2\" >0.000000</td>\n",
              "      <td id=\"T_784d2_row7_col3\" class=\"data row7 col3\" >-0.000000</td>\n",
              "      <td id=\"T_784d2_row7_col4\" class=\"data row7 col4\" >-0.000000</td>\n",
              "      <td id=\"T_784d2_row7_col5\" class=\"data row7 col5\" >-0.000000</td>\n",
              "      <td id=\"T_784d2_row7_col6\" class=\"data row7 col6\" >0.212964</td>\n",
              "      <td id=\"T_784d2_row7_col7\" class=\"data row7 col7\" >1.000000</td>\n",
              "      <td id=\"T_784d2_row7_col8\" class=\"data row7 col8\" >0.087368</td>\n",
              "      <td id=\"T_784d2_row7_col9\" class=\"data row7 col9\" >0.050525</td>\n",
              "    </tr>\n",
              "    <tr>\n",
              "      <th id=\"T_784d2_level0_row8\" class=\"row_heading level0 row8\" >heating_load</th>\n",
              "      <td id=\"T_784d2_row8_col0\" class=\"data row8 col0\" >0.622272</td>\n",
              "      <td id=\"T_784d2_row8_col1\" class=\"data row8 col1\" >-0.658120</td>\n",
              "      <td id=\"T_784d2_row8_col2\" class=\"data row8 col2\" >0.455671</td>\n",
              "      <td id=\"T_784d2_row8_col3\" class=\"data row8 col3\" >-0.861828</td>\n",
              "      <td id=\"T_784d2_row8_col4\" class=\"data row8 col4\" >0.889431</td>\n",
              "      <td id=\"T_784d2_row8_col5\" class=\"data row8 col5\" >-0.002587</td>\n",
              "      <td id=\"T_784d2_row8_col6\" class=\"data row8 col6\" >0.269841</td>\n",
              "      <td id=\"T_784d2_row8_col7\" class=\"data row8 col7\" >0.087368</td>\n",
              "      <td id=\"T_784d2_row8_col8\" class=\"data row8 col8\" >1.000000</td>\n",
              "      <td id=\"T_784d2_row8_col9\" class=\"data row8 col9\" >0.975862</td>\n",
              "    </tr>\n",
              "    <tr>\n",
              "      <th id=\"T_784d2_level0_row9\" class=\"row_heading level0 row9\" >cooling_load</th>\n",
              "      <td id=\"T_784d2_row9_col0\" class=\"data row9 col0\" >0.634339</td>\n",
              "      <td id=\"T_784d2_row9_col1\" class=\"data row9 col1\" >-0.672999</td>\n",
              "      <td id=\"T_784d2_row9_col2\" class=\"data row9 col2\" >0.427117</td>\n",
              "      <td id=\"T_784d2_row9_col3\" class=\"data row9 col3\" >-0.862547</td>\n",
              "      <td id=\"T_784d2_row9_col4\" class=\"data row9 col4\" >0.895785</td>\n",
              "      <td id=\"T_784d2_row9_col5\" class=\"data row9 col5\" >0.014290</td>\n",
              "      <td id=\"T_784d2_row9_col6\" class=\"data row9 col6\" >0.207505</td>\n",
              "      <td id=\"T_784d2_row9_col7\" class=\"data row9 col7\" >0.050525</td>\n",
              "      <td id=\"T_784d2_row9_col8\" class=\"data row9 col8\" >0.975862</td>\n",
              "      <td id=\"T_784d2_row9_col9\" class=\"data row9 col9\" >1.000000</td>\n",
              "    </tr>\n",
              "  </tbody>\n",
              "</table>\n"
            ]
          },
          "metadata": {},
          "execution_count": 10
        }
      ],
      "source": [
        "corr = df.corr(method='pearson')\n",
        "corr.style.background_gradient(cmap='coolwarm')"
      ]
    },
    {
      "cell_type": "markdown",
      "metadata": {
        "id": "wkAmuXgPZ-QW"
      },
      "source": [
        "Dari hasil correlation diatas, 'heating_load' dan 'cooling_load' memiliki correlation yang paling tinggi dengan 'overral_height'. Sedangkan kedua output memiliki negative correlation dengan 'roof_area\""
      ]
    },
    {
      "cell_type": "markdown",
      "metadata": {
        "id": "9czXLyXM7AQD"
      },
      "source": [
        "##P-Value"
      ]
    },
    {
      "cell_type": "markdown",
      "metadata": {
        "id": "BcRKxQ6LcpXe"
      },
      "source": [
        "###Correlation Coefficient and P-Value Test for Heating Load"
      ]
    },
    {
      "cell_type": "code",
      "execution_count": null,
      "metadata": {
        "id": "vHGc0-z55djF"
      },
      "outputs": [],
      "source": [
        "from scipy import stats"
      ]
    },
    {
      "cell_type": "code",
      "execution_count": null,
      "metadata": {
        "id": "eMxnCVhw5pVU",
        "colab": {
          "base_uri": "https://localhost:8080/"
        },
        "outputId": "cade2266-07fb-4c8f-a6df-41a862c57ae7"
      },
      "outputs": [
        {
          "output_type": "stream",
          "name": "stdout",
          "text": [
            "The Pearson Correlation Coefficient is 0.6222721790646626  with a P-value of P = 1.5912736997118763e-83\n"
          ]
        }
      ],
      "source": [
        "pearson_coef, p_value = stats.pearsonr(df['relative_compactness'], df['heating_load'])\n",
        "print(\"The Pearson Correlation Coefficient is\", pearson_coef, \" with a P-value of P =\", p_value)  "
      ]
    },
    {
      "cell_type": "code",
      "execution_count": null,
      "metadata": {
        "id": "xMqlVCwecG93",
        "colab": {
          "base_uri": "https://localhost:8080/"
        },
        "outputId": "ea47069f-7e76-429f-8fa8-7a4db0c1284a"
      },
      "outputs": [
        {
          "output_type": "stream",
          "name": "stdout",
          "text": [
            "The Pearson Correlation Coefficient is -0.6581202267776216  with a P-value of P = 1.6869072902142385e-96\n"
          ]
        }
      ],
      "source": [
        "pearson_coef, p_value = stats.pearsonr(df['surface_area'], df['heating_load'])\n",
        "print(\"The Pearson Correlation Coefficient is\", pearson_coef, \" with a P-value of P =\", p_value)  "
      ]
    },
    {
      "cell_type": "code",
      "execution_count": null,
      "metadata": {
        "id": "yqFuo6kwcLE3",
        "colab": {
          "base_uri": "https://localhost:8080/"
        },
        "outputId": "5a4a3a45-befa-4b43-b043-ee731e48d2a5"
      },
      "outputs": [
        {
          "output_type": "stream",
          "name": "stdout",
          "text": [
            "The Pearson Correlation Coefficient is 0.4556711568983096  with a P-value of P = 1.221888688332153e-40\n"
          ]
        }
      ],
      "source": [
        "pearson_coef, p_value = stats.pearsonr(df['wall_area'], df['heating_load'])\n",
        "print(\"The Pearson Correlation Coefficient is\", pearson_coef, \" with a P-value of P =\", p_value)  "
      ]
    },
    {
      "cell_type": "code",
      "execution_count": null,
      "metadata": {
        "id": "UoO1IAuYcOL_",
        "colab": {
          "base_uri": "https://localhost:8080/"
        },
        "outputId": "dc87ce7c-2ef9-4c0e-be8c-36cc4502fab0"
      },
      "outputs": [
        {
          "output_type": "stream",
          "name": "stdout",
          "text": [
            "The Pearson Correlation Coefficient is -0.8618282529058219  with a P-value of P = 4.914880966403568e-228\n"
          ]
        }
      ],
      "source": [
        "pearson_coef, p_value = stats.pearsonr(df['roof_area'], df['heating_load'])\n",
        "print(\"The Pearson Correlation Coefficient is\", pearson_coef, \" with a P-value of P =\", p_value)  "
      ]
    },
    {
      "cell_type": "code",
      "execution_count": null,
      "metadata": {
        "id": "ZlxcOJaxcRUG",
        "colab": {
          "base_uri": "https://localhost:8080/"
        },
        "outputId": "69a89f63-5775-4892-a550-f05f53476fcc"
      },
      "outputs": [
        {
          "output_type": "stream",
          "name": "stdout",
          "text": [
            "The Pearson Correlation Coefficient is 0.8894306741007043  with a P-value of P = 1.1409232650139007e-262\n"
          ]
        }
      ],
      "source": [
        "pearson_coef, p_value = stats.pearsonr(df['overall_height'], df['heating_load'])\n",
        "print(\"The Pearson Correlation Coefficient is\", pearson_coef, \" with a P-value of P =\", p_value)  "
      ]
    },
    {
      "cell_type": "code",
      "execution_count": null,
      "metadata": {
        "id": "77atwRKzcU8t",
        "colab": {
          "base_uri": "https://localhost:8080/"
        },
        "outputId": "f9734f49-b7d7-4016-ac4e-6c7a6326a496"
      },
      "outputs": [
        {
          "output_type": "stream",
          "name": "stdout",
          "text": [
            "The Pearson Correlation Coefficient is -0.0025865339156387612  with a P-value of P = 0.9429492916263041\n"
          ]
        }
      ],
      "source": [
        "pearson_coef, p_value = stats.pearsonr(df['orientation'], df['heating_load'])\n",
        "print(\"The Pearson Correlation Coefficient is\", pearson_coef, \" with a P-value of P =\", p_value)  "
      ]
    },
    {
      "cell_type": "code",
      "execution_count": null,
      "metadata": {
        "id": "OfbbYezycZeW",
        "colab": {
          "base_uri": "https://localhost:8080/"
        },
        "outputId": "984f7515-76bf-4aea-b49b-f742b658e9a4"
      },
      "outputs": [
        {
          "output_type": "stream",
          "name": "stdout",
          "text": [
            "The Pearson Correlation Coefficient is 0.2698409963206336  with a P-value of P = 2.795962177592611e-14\n"
          ]
        }
      ],
      "source": [
        "pearson_coef, p_value = stats.pearsonr(df['glazing_area'], df['heating_load'])\n",
        "print(\"The Pearson Correlation Coefficient is\", pearson_coef, \" with a P-value of P =\", p_value)  "
      ]
    },
    {
      "cell_type": "code",
      "execution_count": null,
      "metadata": {
        "id": "jz9FYTuycfPG",
        "colab": {
          "base_uri": "https://localhost:8080/"
        },
        "outputId": "33303e9d-c7de-4797-d1b8-db858d632cf3"
      },
      "outputs": [
        {
          "output_type": "stream",
          "name": "stdout",
          "text": [
            "The Pearson Correlation Coefficient is 0.08736759370846416  with a P-value of P = 0.015440000762161364\n"
          ]
        }
      ],
      "source": [
        "pearson_coef, p_value = stats.pearsonr(df['glazing_area_distribution'], df['heating_load'])\n",
        "print(\"The Pearson Correlation Coefficient is\", pearson_coef, \" with a P-value of P =\", p_value)  "
      ]
    },
    {
      "cell_type": "markdown",
      "metadata": {
        "id": "vIrCL3Izc1o2"
      },
      "source": [
        "###Correlation Coefficient and P-Value Test for Cooling Load"
      ]
    },
    {
      "cell_type": "code",
      "execution_count": null,
      "metadata": {
        "id": "5QCEmcFSc7H8",
        "colab": {
          "base_uri": "https://localhost:8080/"
        },
        "outputId": "a86223b2-0a7c-41e9-d5b7-4768015d55ab"
      },
      "outputs": [
        {
          "output_type": "stream",
          "name": "stdout",
          "text": [
            "The Pearson Correlation Coefficient is 0.6343390663353593  with a P-value of P = 1.0608759912582303e-87\n"
          ]
        }
      ],
      "source": [
        "pearson_coef, p_value = stats.pearsonr(df['relative_compactness'], df['cooling_load'])\n",
        "print(\"The Pearson Correlation Coefficient is\", pearson_coef, \" with a P-value of P =\", p_value)  "
      ]
    },
    {
      "cell_type": "code",
      "execution_count": null,
      "metadata": {
        "id": "QSKmIMgTc-jd",
        "colab": {
          "base_uri": "https://localhost:8080/"
        },
        "outputId": "5a1870e4-79cf-427b-c419-982834ae38d3"
      },
      "outputs": [
        {
          "output_type": "stream",
          "name": "stdout",
          "text": [
            "The Pearson Correlation Coefficient is -0.6729989333544866  with a P-value of P = 2.0052123210792597e-102\n"
          ]
        }
      ],
      "source": [
        "pearson_coef, p_value = stats.pearsonr(df['surface_area'], df['cooling_load'])\n",
        "print(\"The Pearson Correlation Coefficient is\", pearson_coef, \" with a P-value of P =\", p_value)"
      ]
    },
    {
      "cell_type": "code",
      "execution_count": null,
      "metadata": {
        "id": "y58qSO0AdAcg",
        "colab": {
          "base_uri": "https://localhost:8080/"
        },
        "outputId": "bdc740ff-fff2-40ea-ad56-3f4ab54f9b42"
      },
      "outputs": [
        {
          "output_type": "stream",
          "name": "stdout",
          "text": [
            "The Pearson Correlation Coefficient is 0.4271169976671334  with a P-value of P = 2.1081966043419287e-35\n"
          ]
        }
      ],
      "source": [
        "pearson_coef, p_value = stats.pearsonr(df['wall_area'], df['cooling_load'])\n",
        "print(\"The Pearson Correlation Coefficient is\", pearson_coef, \" with a P-value of P =\", p_value)  "
      ]
    },
    {
      "cell_type": "code",
      "execution_count": null,
      "metadata": {
        "id": "LL2qKXUzdCA1",
        "colab": {
          "base_uri": "https://localhost:8080/"
        },
        "outputId": "d806d89e-e938-4292-dfa0-6967a6e1a7fc"
      },
      "outputs": [
        {
          "output_type": "stream",
          "name": "stdout",
          "text": [
            "The Pearson Correlation Coefficient is -0.862546603524974  with a P-value of P = 7.732002122015264e-229\n"
          ]
        }
      ],
      "source": [
        "pearson_coef, p_value = stats.pearsonr(df['roof_area'], df['cooling_load'])\n",
        "print(\"The Pearson Correlation Coefficient is\", pearson_coef, \" with a P-value of P =\", p_value)  "
      ]
    },
    {
      "cell_type": "code",
      "execution_count": null,
      "metadata": {
        "id": "EoMPTrnSdDYU",
        "colab": {
          "base_uri": "https://localhost:8080/"
        },
        "outputId": "80911bd7-f69d-44cc-d192-9dcc694861ff"
      },
      "outputs": [
        {
          "output_type": "stream",
          "name": "stdout",
          "text": [
            "The Pearson Correlation Coefficient is 0.8957851688924499  with a P-value of P = 5.855770613018753e-272\n"
          ]
        }
      ],
      "source": [
        "pearson_coef, p_value = stats.pearsonr(df['overall_height'], df['cooling_load'])\n",
        "print(\"The Pearson Correlation Coefficient is\", pearson_coef, \" with a P-value of P =\", p_value)  "
      ]
    },
    {
      "cell_type": "code",
      "execution_count": null,
      "metadata": {
        "id": "op7UZvTldFQF",
        "colab": {
          "base_uri": "https://localhost:8080/"
        },
        "outputId": "2103868c-fae4-4d98-b2f1-b9422f7ae94b"
      },
      "outputs": [
        {
          "output_type": "stream",
          "name": "stdout",
          "text": [
            "The Pearson Correlation Coefficient is 0.014289597576170203  with a P-value of P = 0.6925623867163834\n"
          ]
        }
      ],
      "source": [
        "pearson_coef, p_value = stats.pearsonr(df['orientation'], df['cooling_load'])\n",
        "print(\"The Pearson Correlation Coefficient is\", pearson_coef, \" with a P-value of P =\", p_value)  "
      ]
    },
    {
      "cell_type": "code",
      "execution_count": null,
      "metadata": {
        "id": "q97SOZ6JdIM3",
        "colab": {
          "base_uri": "https://localhost:8080/"
        },
        "outputId": "844b62e6-d0d5-4ff5-eb59-da0187109958"
      },
      "outputs": [
        {
          "output_type": "stream",
          "name": "stdout",
          "text": [
            "The Pearson Correlation Coefficient is 0.20750499116036222  with a P-value of P = 6.456865072121636e-09\n"
          ]
        }
      ],
      "source": [
        "pearson_coef, p_value = stats.pearsonr(df['glazing_area'], df['cooling_load'])\n",
        "print(\"The Pearson Correlation Coefficient is\", pearson_coef, \" with a P-value of P =\", p_value)  "
      ]
    },
    {
      "cell_type": "code",
      "execution_count": null,
      "metadata": {
        "id": "IFKOFF7bdMce",
        "colab": {
          "base_uri": "https://localhost:8080/"
        },
        "outputId": "526dafb4-0631-4b21-9423-1d36059f518e"
      },
      "outputs": [
        {
          "output_type": "stream",
          "name": "stdout",
          "text": [
            "The Pearson Correlation Coefficient is 0.05052511880567566  with a P-value of P = 0.16187117468126605\n"
          ]
        }
      ],
      "source": [
        "pearson_coef, p_value = stats.pearsonr(df['glazing_area_distribution'], df['cooling_load'])\n",
        "print(\"The Pearson Correlation Coefficient is\", pearson_coef, \" with a P-value of P =\", p_value)  "
      ]
    },
    {
      "cell_type": "markdown",
      "metadata": {
        "id": "p2-wEeF2e7SZ"
      },
      "source": [
        "# Bagian 4\n"
      ]
    },
    {
      "cell_type": "markdown",
      "metadata": {
        "id": "OvKY2a7mokNS"
      },
      "source": [
        "## Single Linear Regression (Heating Load)"
      ]
    },
    {
      "cell_type": "code",
      "execution_count": null,
      "metadata": {
        "id": "Vcou_mCLosN1",
        "colab": {
          "base_uri": "https://localhost:8080/"
        },
        "outputId": "517a5e8f-4caa-4013-ef0d-14473bf67729"
      },
      "outputs": [
        {
          "output_type": "execute_result",
          "data": {
            "text/plain": [
              "LinearRegression()"
            ]
          },
          "metadata": {},
          "execution_count": 28
        }
      ],
      "source": [
        "lm = LinearRegression()\n",
        "lm"
      ]
    },
    {
      "cell_type": "code",
      "execution_count": null,
      "metadata": {
        "id": "vUdn821douo3"
      },
      "outputs": [],
      "source": [
        "#parameter X yang digunakan adalah parameter dengan korelasi paling besar (dilihat dari heatmap)\n",
        "X = df[['overall_height']]\n",
        "Y = df['heating_load']"
      ]
    },
    {
      "cell_type": "code",
      "execution_count": null,
      "metadata": {
        "id": "HiD97Z0do5MC",
        "colab": {
          "base_uri": "https://localhost:8080/"
        },
        "outputId": "972e1c89-38e8-48bc-98cf-95a6a4f7d739"
      },
      "outputs": [
        {
          "output_type": "execute_result",
          "data": {
            "text/plain": [
              "LinearRegression()"
            ]
          },
          "metadata": {},
          "execution_count": 30
        }
      ],
      "source": [
        "lm.fit(X,Y)"
      ]
    },
    {
      "cell_type": "code",
      "execution_count": null,
      "metadata": {
        "id": "XbN6TESDo6_c",
        "colab": {
          "base_uri": "https://localhost:8080/"
        },
        "outputId": "ae609e71-0262-4a03-d0e5-5f80d00ebf3a"
      },
      "outputs": [
        {
          "output_type": "execute_result",
          "data": {
            "text/plain": [
              "array([31.27588542, 31.27588542, 31.27588542, 31.27588542, 31.27588542])"
            ]
          },
          "metadata": {},
          "execution_count": 31
        }
      ],
      "source": [
        "Yhat=lm.predict(X)\n",
        "Yhat[0:5] "
      ]
    },
    {
      "cell_type": "code",
      "execution_count": null,
      "metadata": {
        "id": "twEqxB2ho8gJ",
        "colab": {
          "base_uri": "https://localhost:8080/"
        },
        "outputId": "442bd38d-c03b-42d8-96f4-f8ff9f7d5c5b"
      },
      "outputs": [
        {
          "output_type": "execute_result",
          "data": {
            "text/plain": [
              "-4.598854166666666"
            ]
          },
          "metadata": {},
          "execution_count": 32
        }
      ],
      "source": [
        "lm.intercept_"
      ]
    },
    {
      "cell_type": "code",
      "execution_count": null,
      "metadata": {
        "id": "uzhm49L-o92A",
        "colab": {
          "base_uri": "https://localhost:8080/"
        },
        "outputId": "8606459f-6243-47af-bc10-4b1a3ce10943"
      },
      "outputs": [
        {
          "output_type": "execute_result",
          "data": {
            "text/plain": [
              "array([5.1249628])"
            ]
          },
          "metadata": {},
          "execution_count": 33
        }
      ],
      "source": [
        "lm.coef_"
      ]
    },
    {
      "cell_type": "markdown",
      "metadata": {
        "id": "ywsb62uTaIyp"
      },
      "source": [
        "Maka, linear model-nya adalah: Heating Load = -4.59885 + (5.12496 x overall-height)\n",
        "\n"
      ]
    },
    {
      "cell_type": "code",
      "execution_count": null,
      "metadata": {
        "id": "gex3TGGZdqFg",
        "colab": {
          "base_uri": "https://localhost:8080/"
        },
        "outputId": "f89431ad-75e7-4aad-941d-b90fadf6f579"
      },
      "outputs": [
        {
          "output_type": "stream",
          "name": "stdout",
          "text": [
            "The R-square is (SLR):  0.7910869240312334\n"
          ]
        }
      ],
      "source": [
        "#overall_height_fit\n",
        "lm.fit(X, Y)\n",
        "# Find the R^2\n",
        "print('The R-square is (SLR): ', lm.score(X, Y))"
      ]
    },
    {
      "cell_type": "code",
      "execution_count": null,
      "metadata": {
        "id": "ocEK-5rMdtcu",
        "colab": {
          "base_uri": "https://localhost:8080/"
        },
        "outputId": "f8235f5f-79cb-4e44-b677-a72cf37fd0c0"
      },
      "outputs": [
        {
          "output_type": "stream",
          "name": "stdout",
          "text": [
            "The output of the first four predicted value is:  [31.27588542 31.27588542 31.27588542 31.27588542]\n"
          ]
        }
      ],
      "source": [
        "Yhat=lm.predict(X)\n",
        "print('The output of the first four predicted value is: ', Yhat[0:4])"
      ]
    },
    {
      "cell_type": "code",
      "execution_count": null,
      "metadata": {
        "id": "uUH6Z7McdyZW"
      },
      "outputs": [],
      "source": [
        "from sklearn.metrics import mean_squared_error"
      ]
    },
    {
      "cell_type": "code",
      "execution_count": null,
      "metadata": {
        "id": "MtqtlmXPdy42",
        "colab": {
          "base_uri": "https://localhost:8080/"
        },
        "outputId": "4951659b-ce8c-4df0-9c7f-e60ef47adf38"
      },
      "outputs": [
        {
          "output_type": "stream",
          "name": "stdout",
          "text": [
            "The mean square error of heating load and predicted value is:  21.24217337612576\n"
          ]
        }
      ],
      "source": [
        "mse = mean_squared_error(df['heating_load'], Yhat)\n",
        "print('The mean square error of heating load and predicted value is: ', mse)"
      ]
    },
    {
      "cell_type": "markdown",
      "metadata": {
        "id": "nKPA9BUyxBhR"
      },
      "source": [
        "## Multiple Linear Regression (Heating Load)\n"
      ]
    },
    {
      "cell_type": "code",
      "execution_count": null,
      "metadata": {
        "id": "jeNaL2jHVDNV"
      },
      "outputs": [],
      "source": [
        "Z = df[['relative_compactness', 'surface_area', 'wall_area', 'roof_area', 'overall_height', 'glazing_area', 'glazing_area_distribution']]\n",
        "\n",
        "#parameter orientation tidak digunakan karena p-value < 0.05"
      ]
    },
    {
      "cell_type": "code",
      "execution_count": null,
      "metadata": {
        "id": "m5aeP_N3yahl",
        "colab": {
          "base_uri": "https://localhost:8080/"
        },
        "outputId": "610d40b6-79eb-4500-ebf7-ea8cc835a66d"
      },
      "outputs": [
        {
          "output_type": "execute_result",
          "data": {
            "text/plain": [
              "LinearRegression()"
            ]
          },
          "metadata": {},
          "execution_count": 39
        }
      ],
      "source": [
        "lm = LinearRegression()\n",
        "lm"
      ]
    },
    {
      "cell_type": "code",
      "execution_count": null,
      "metadata": {
        "id": "mXfLxT5IxZbz",
        "colab": {
          "base_uri": "https://localhost:8080/"
        },
        "outputId": "0907a1ae-11ee-4324-9b82-304cb124bef9"
      },
      "outputs": [
        {
          "output_type": "execute_result",
          "data": {
            "text/plain": [
              "LinearRegression()"
            ]
          },
          "metadata": {},
          "execution_count": 40
        }
      ],
      "source": [
        "lm.fit(Z, df['heating_load'])"
      ]
    },
    {
      "cell_type": "code",
      "execution_count": null,
      "metadata": {
        "id": "xaZqCkHjy2rp",
        "colab": {
          "base_uri": "https://localhost:8080/"
        },
        "outputId": "6d9b3a0c-546d-416d-d452-909e4d58cd0d"
      },
      "outputs": [
        {
          "output_type": "execute_result",
          "data": {
            "text/plain": [
              "83.65239253854858"
            ]
          },
          "metadata": {},
          "execution_count": 41
        }
      ],
      "source": [
        "lm.intercept_"
      ]
    },
    {
      "cell_type": "code",
      "execution_count": null,
      "metadata": {
        "id": "DQ33TCT0y69G",
        "colab": {
          "base_uri": "https://localhost:8080/"
        },
        "outputId": "c684e711-a486-4ba8-afb0-0a58034b35f6"
      },
      "outputs": [
        {
          "output_type": "execute_result",
          "data": {
            "text/plain": [
              "array([-6.46079002e+01, -2.15708194e+11,  2.15708194e+11,  4.31416388e+11,\n",
              "        4.17043352e+00,  1.99319987e+01,  2.03678151e-01])"
            ]
          },
          "metadata": {},
          "execution_count": 42
        }
      ],
      "source": [
        "lm.coef_"
      ]
    },
    {
      "cell_type": "code",
      "execution_count": null,
      "metadata": {
        "id": "N8sDtP3l0W9_"
      },
      "outputs": [],
      "source": [
        "Y_hat = lm.predict(Z)"
      ]
    },
    {
      "cell_type": "code",
      "execution_count": null,
      "metadata": {
        "id": "j8u4XEHN0Y_p",
        "colab": {
          "base_uri": "https://localhost:8080/"
        },
        "outputId": "5f9b1598-9132-479a-d54f-f66f6af46948"
      },
      "outputs": [
        {
          "output_type": "stream",
          "name": "stderr",
          "text": [
            "/usr/local/lib/python3.7/dist-packages/seaborn/distributions.py:2619: FutureWarning: `distplot` is a deprecated function and will be removed in a future version. Please adapt your code to use either `displot` (a figure-level function with similar flexibility) or `kdeplot` (an axes-level function for kernel density plots).\n",
            "  warnings.warn(msg, FutureWarning)\n",
            "/usr/local/lib/python3.7/dist-packages/seaborn/distributions.py:2619: FutureWarning: `distplot` is a deprecated function and will be removed in a future version. Please adapt your code to use either `displot` (a figure-level function with similar flexibility) or `kdeplot` (an axes-level function for kernel density plots).\n",
            "  warnings.warn(msg, FutureWarning)\n"
          ]
        },
        {
          "output_type": "display_data",
          "data": {
            "text/plain": [
              "<Figure size 864x720 with 1 Axes>"
            ],
            "image/png": "[encoded data removed]"
          },
          "metadata": {
            "needs_background": "light"
          }
        }
      ],
      "source": [
        "plt.figure(figsize=(12, 10))\n",
        "\n",
        "\n",
        "ax1 = sns.distplot(df['heating_load'], hist=False, color=\"r\", label=\"Actual Value\")\n",
        "sns.distplot(Y_hat, hist=False, color=\"b\", label=\"Fitted Values\" , ax=ax1)\n",
        "\n",
        "\n",
        "plt.title('Actual vs Fitted Values for Heating Load')\n",
        "plt.xlabel('Heating Load')\n",
        "plt.ylabel('Building Parameters')\n",
        "\n",
        "plt.show()\n",
        "plt.close()"
      ]
    },
    {
      "cell_type": "code",
      "execution_count": null,
      "metadata": {
        "id": "VUKv4zwDeC6_",
        "colab": {
          "base_uri": "https://localhost:8080/"
        },
        "outputId": "76502ade-5b82-4047-c434-24128372c390"
      },
      "outputs": [
        {
          "output_type": "stream",
          "name": "stdout",
          "text": [
            "The R-square is (MLR):  0.9160505103234438\n"
          ]
        }
      ],
      "source": [
        "# fit the model \n",
        "lm.fit(Z, df['heating_load'])\n",
        "# Find the R^2\n",
        "print('The R-square is (MLR): ', lm.score(Z, df['heating_load']))"
      ]
    },
    {
      "cell_type": "code",
      "execution_count": null,
      "metadata": {
        "id": "-ZnRz6ZPeLIo"
      },
      "outputs": [],
      "source": [
        "Y_predict_multifit = lm.predict(Z)"
      ]
    },
    {
      "cell_type": "code",
      "execution_count": null,
      "metadata": {
        "id": "3EIoHRVDeN5W",
        "colab": {
          "base_uri": "https://localhost:8080/"
        },
        "outputId": "51aab4f6-d421-4e4e-c3b9-0635f3a2ad67"
      },
      "outputs": [
        {
          "output_type": "stream",
          "name": "stdout",
          "text": [
            "The mean square error of heating load and predicted value using multifit is:  8.53594063596715\n"
          ]
        }
      ],
      "source": [
        "print('The mean square error of heating load and predicted value using multifit is: ', mean_squared_error(df['heating_load'], Y_predict_multifit))"
      ]
    },
    {
      "cell_type": "markdown",
      "metadata": {
        "id": "HKHDfQjvjtPh"
      },
      "source": [
        "## Polynomial Regression (Heating Load)"
      ]
    },
    {
      "cell_type": "code",
      "execution_count": null,
      "metadata": {
        "id": "iJDg_DjycTso"
      },
      "outputs": [],
      "source": [
        "def PlotPolly(model, independent_variable, dependent_variabble, Name):\n",
        "    x_new = np.linspace(15, 55, 100)\n",
        "    y_new = model(x_new)\n",
        "\n",
        "    plt.plot(independent_variable, dependent_variabble, '.', x_new, y_new, '-')\n",
        "    plt.title('Polynomial Fit with Matplotlib for Heating Load')\n",
        "    ax = plt.gca()\n",
        "    ax.set_facecolor((0.898, 0.898, 0.898))\n",
        "    fig = plt.gcf()\n",
        "    plt.xlabel(Name)\n",
        "    plt.ylabel('Heating Load')\n",
        "\n",
        "    plt.show()\n",
        "    plt.close()"
      ]
    },
    {
      "cell_type": "code",
      "execution_count": null,
      "metadata": {
        "id": "NhZ0KRpmcf9H"
      },
      "outputs": [],
      "source": [
        "x = df['overall_height']\n",
        "y = df['heating_load']"
      ]
    },
    {
      "cell_type": "code",
      "execution_count": null,
      "metadata": {
        "id": "ramYJbikc5xv",
        "colab": {
          "base_uri": "https://localhost:8080/"
        },
        "outputId": "5bcb34e3-afe0-401b-d82b-c14fadc2a707"
      },
      "outputs": [
        {
          "output_type": "stream",
          "name": "stdout",
          "text": [
            "         3          2\n",
            "0.02478 x + 0.1754 x + 1.159 x + 6.073\n"
          ]
        },
        {
          "output_type": "stream",
          "name": "stderr",
          "text": [
            "/usr/local/lib/python3.7/dist-packages/IPython/core/interactiveshell.py:2882: RankWarning: Polyfit may be poorly conditioned\n",
            "  exec(code_obj, self.user_global_ns, self.user_ns)\n"
          ]
        }
      ],
      "source": [
        "# Here we use a polynomial of the 3rd order (cubic) \n",
        "f = np.polyfit(x, y, 3)\n",
        "p = np.poly1d(f)\n",
        "print(p)"
      ]
    },
    {
      "cell_type": "code",
      "execution_count": null,
      "metadata": {
        "id": "I8nAjjBRcooY",
        "colab": {
          "base_uri": "https://localhost:8080/"
        },
        "outputId": "e6673874-1170-4357-8ff9-763a1742dbba"
      },
      "outputs": [
        {
          "output_type": "display_data",
          "data": {
            "text/plain": [
              "<Figure size 432x288 with 1 Axes>"
            ],
            "image/png": "[encoded data removed]"
          },
          "metadata": {
            "needs_background": "light"
          }
        }
      ],
      "source": [
        "PlotPolly(p, x, y, 'overall_height')"
      ]
    },
    {
      "cell_type": "code",
      "execution_count": null,
      "metadata": {
        "id": "vWfSdh_Idccm",
        "colab": {
          "base_uri": "https://localhost:8080/"
        },
        "outputId": "7dad5f4c-d859-4fc8-c00f-ba10a5c963f7"
      },
      "outputs": [
        {
          "output_type": "stream",
          "name": "stderr",
          "text": [
            "/usr/local/lib/python3.7/dist-packages/IPython/core/interactiveshell.py:2882: RankWarning: Polyfit may be poorly conditioned\n",
            "  exec(code_obj, self.user_global_ns, self.user_ns)\n"
          ]
        },
        {
          "output_type": "execute_result",
          "data": {
            "text/plain": [
              "array([0.02477577, 0.17542191, 1.15851065, 6.0725489 ])"
            ]
          },
          "metadata": {},
          "execution_count": 52
        }
      ],
      "source": [
        "np.polyfit(x, y, 3)"
      ]
    },
    {
      "cell_type": "code",
      "execution_count": null,
      "metadata": {
        "id": "uzv-OzC_jsz8",
        "colab": {
          "base_uri": "https://localhost:8080/"
        },
        "outputId": "80dd021b-4cd7-492d-b63b-8c5d74a00d7c"
      },
      "outputs": [
        {
          "output_type": "execute_result",
          "data": {
            "text/plain": [
              "PolynomialFeatures()"
            ]
          },
          "metadata": {},
          "execution_count": 53
        }
      ],
      "source": [
        "pr=PolynomialFeatures(degree=2)\n",
        "pr"
      ]
    },
    {
      "cell_type": "code",
      "execution_count": null,
      "metadata": {
        "id": "R64pCXUpj4QN"
      },
      "outputs": [],
      "source": [
        "Z_pr=pr.fit_transform(Z)"
      ]
    },
    {
      "cell_type": "code",
      "execution_count": null,
      "metadata": {
        "id": "Wm74AaAej5v6",
        "colab": {
          "base_uri": "https://localhost:8080/"
        },
        "outputId": "d3a307ac-fd67-4ddf-fb52-d4fa75a7a79c"
      },
      "outputs": [
        {
          "output_type": "execute_result",
          "data": {
            "text/plain": [
              "(768, 7)"
            ]
          },
          "metadata": {},
          "execution_count": 55
        }
      ],
      "source": [
        "Z.shape"
      ]
    },
    {
      "cell_type": "code",
      "execution_count": null,
      "metadata": {
        "id": "Ji5f1qBaj696",
        "colab": {
          "base_uri": "https://localhost:8080/"
        },
        "outputId": "6bfb5c9f-6354-427d-a6b3-0815a42ecd67"
      },
      "outputs": [
        {
          "output_type": "execute_result",
          "data": {
            "text/plain": [
              "(768, 36)"
            ]
          },
          "metadata": {},
          "execution_count": 56
        }
      ],
      "source": [
        "Z_pr.shape"
      ]
    },
    {
      "cell_type": "code",
      "execution_count": null,
      "metadata": {
        "id": "RrGQJipnnxOl"
      },
      "outputs": [],
      "source": [
        "from sklearn.metrics import r2_score"
      ]
    },
    {
      "cell_type": "code",
      "execution_count": null,
      "metadata": {
        "id": "Rf9Op9OgehLm",
        "colab": {
          "base_uri": "https://localhost:8080/"
        },
        "outputId": "93771ff0-475f-4259-ec74-abc3cb1c59fb"
      },
      "outputs": [
        {
          "output_type": "stream",
          "name": "stdout",
          "text": [
            "The R-square value is (PR):  0.7910869240312334\n"
          ]
        }
      ],
      "source": [
        "r_squared = r2_score(y, p(x))\n",
        "print('The R-square value is (PR): ', r_squared)"
      ]
    },
    {
      "cell_type": "code",
      "execution_count": null,
      "metadata": {
        "id": "iyAyqo0geizw",
        "colab": {
          "base_uri": "https://localhost:8080/"
        },
        "outputId": "70f9f6a5-1dd5-43e7-811d-40e5a8e5571e"
      },
      "outputs": [
        {
          "output_type": "execute_result",
          "data": {
            "text/plain": [
              "21.242173376125763"
            ]
          },
          "metadata": {},
          "execution_count": 59
        }
      ],
      "source": [
        "mean_squared_error(df['heating_load'], p(x))"
      ]
    },
    {
      "cell_type": "markdown",
      "source": [
        "## KESIMPULAN"
      ],
      "metadata": {
        "id": "F0Zn2MfPnGkK"
      }
    },
    {
      "cell_type": "markdown",
      "metadata": {
        "id": "Y7_ovE6keyg9"
      },
      "source": [
        "Untuk heating load:\n",
        "\n",
        "1. SLR\n",
        "R2 = 0.887987009965136\n",
        "MSE = 26.647753462727888\n",
        "\n",
        "2. MLR\n",
        "R2 = 0.9151499310378322\n",
        "MSE = 15.420471600118455\n",
        "\n",
        "3. PR\n",
        "R2 = 0.7379239852258845\n",
        "MSE = 26.647753462728\n"
      ]
    },
    {
      "cell_type": "markdown",
      "source": [
        "Dapat disimpulkan, bahwa MLR model merupakan model terbaik untuk memprediksi heating load dari dataset kami."
      ],
      "metadata": {
        "id": "-l7HiP95lGyL"
      }
    },
    {
      "cell_type": "markdown",
      "metadata": {
        "id": "QjG5VfOagbyF"
      },
      "source": [
        "## Single Linear Regression (Cooling Load)"
      ]
    },
    {
      "cell_type": "code",
      "execution_count": null,
      "metadata": {
        "id": "tPklmHLXgfQ9",
        "colab": {
          "base_uri": "https://localhost:8080/"
        },
        "outputId": "226870a6-d387-48ea-915d-5892f16de8ae"
      },
      "outputs": [
        {
          "output_type": "execute_result",
          "data": {
            "text/plain": [
              "LinearRegression()"
            ]
          },
          "metadata": {},
          "execution_count": 60
        }
      ],
      "source": [
        "lm = LinearRegression()\n",
        "lm"
      ]
    },
    {
      "cell_type": "code",
      "execution_count": null,
      "metadata": {
        "id": "VzZHW2kOgghc"
      },
      "outputs": [],
      "source": [
        "#parameter X yang digunakan adalah parameter dengan korelasi paling besar (dilihat dari heatmap)\n",
        "X = df[['overall_height']]\n",
        "Y = df['cooling_load']"
      ]
    },
    {
      "cell_type": "code",
      "execution_count": null,
      "metadata": {
        "id": "U1fP2fccgzPF",
        "colab": {
          "base_uri": "https://localhost:8080/"
        },
        "outputId": "b614283f-108a-40e3-f8ea-8f1c13ed952e"
      },
      "outputs": [
        {
          "output_type": "execute_result",
          "data": {
            "text/plain": [
              "LinearRegression()"
            ]
          },
          "metadata": {},
          "execution_count": 62
        }
      ],
      "source": [
        "lm.fit(X,Y)"
      ]
    },
    {
      "cell_type": "code",
      "execution_count": null,
      "metadata": {
        "id": "vp_bXvBmg0OQ",
        "colab": {
          "base_uri": "https://localhost:8080/"
        },
        "outputId": "0934fd1d-0fd9-4a11-af81-482511d9678e"
      },
      "outputs": [
        {
          "output_type": "execute_result",
          "data": {
            "text/plain": [
              "array([33.10408854, 33.10408854, 33.10408854, 33.10408854, 33.10408854])"
            ]
          },
          "metadata": {},
          "execution_count": 63
        }
      ],
      "source": [
        "Yhat=lm.predict(X)\n",
        "Yhat[0:5] "
      ]
    },
    {
      "cell_type": "code",
      "execution_count": null,
      "metadata": {
        "id": "-JI0Htoig1Ck",
        "colab": {
          "base_uri": "https://localhost:8080/"
        },
        "outputId": "832e11cf-f7d5-4ebf-b76e-6c7054f316a3"
      },
      "outputs": [
        {
          "output_type": "execute_result",
          "data": {
            "text/plain": [
              "-0.9612239583333242"
            ]
          },
          "metadata": {},
          "execution_count": 64
        }
      ],
      "source": [
        "lm.intercept_"
      ]
    },
    {
      "cell_type": "code",
      "execution_count": null,
      "metadata": {
        "id": "KNkk6tomg14h",
        "colab": {
          "base_uri": "https://localhost:8080/"
        },
        "outputId": "62a566eb-5946-49c0-8a7e-7799a2dd2160"
      },
      "outputs": [
        {
          "output_type": "execute_result",
          "data": {
            "text/plain": [
              "array([4.86647321])"
            ]
          },
          "metadata": {},
          "execution_count": 65
        }
      ],
      "source": [
        "lm.coef_"
      ]
    },
    {
      "cell_type": "markdown",
      "source": [
        "Maka, linear model-nya adalah: Cooling Load = -0.96122 + (4.86647 x overall-height)"
      ],
      "metadata": {
        "id": "QjiTTbyXiAqM"
      }
    },
    {
      "cell_type": "code",
      "source": [
        "#overall_height_fit\n",
        "lm.fit(X, Y)\n",
        "# Find the R^2\n",
        "print('The R-square is (SLR): ', lm.score(X, Y))"
      ],
      "metadata": {
        "colab": {
          "base_uri": "https://localhost:8080/"
        },
        "id": "NmYw0vvSiN-l",
        "outputId": "432be659-82af-4dfe-92b7-5502af40849b"
      },
      "execution_count": null,
      "outputs": [
        {
          "output_type": "stream",
          "name": "stdout",
          "text": [
            "The R-square is (SLR):  0.8024310688076752\n"
          ]
        }
      ]
    },
    {
      "cell_type": "code",
      "source": [
        "Yhat=lm.predict(X)\n",
        "print('The output of the first four predicted value is: ', Yhat[0:4])"
      ],
      "metadata": {
        "colab": {
          "base_uri": "https://localhost:8080/"
        },
        "id": "oQu7tsmJiSrl",
        "outputId": "3c10807f-d8fe-44a0-8a6d-b87f627acf51"
      },
      "execution_count": null,
      "outputs": [
        {
          "output_type": "stream",
          "name": "stdout",
          "text": [
            "The output of the first four predicted value is:  [33.10408854 33.10408854 33.10408854 33.10408854]\n"
          ]
        }
      ]
    },
    {
      "cell_type": "code",
      "source": [
        "mse = mean_squared_error(df['cooling_load'], Yhat)\n",
        "print('The mean square error of cooling load and predicted value is: ', mse)"
      ],
      "metadata": {
        "colab": {
          "base_uri": "https://localhost:8080/"
        },
        "id": "u6ed_TDbiVtO",
        "outputId": "0d6c1635-78b8-4003-bb88-c5f6eb4f8dad"
      },
      "execution_count": null,
      "outputs": [
        {
          "output_type": "stream",
          "name": "stdout",
          "text": [
            "The mean square error of cooling load and predicted value is:  17.85729556410048\n"
          ]
        }
      ]
    },
    {
      "cell_type": "markdown",
      "metadata": {
        "id": "9d5EyErgf5ks"
      },
      "source": [
        "## Multiple Linear Regression (Cooling Load)"
      ]
    },
    {
      "cell_type": "code",
      "execution_count": null,
      "metadata": {
        "id": "gk28NTz6gBbW"
      },
      "outputs": [],
      "source": [
        "Z = df[['relative_compactness', 'surface_area', 'wall_area', 'roof_area', 'overall_height', 'glazing_area']]"
      ]
    },
    {
      "cell_type": "code",
      "execution_count": null,
      "metadata": {
        "id": "620MtqeThNw-",
        "colab": {
          "base_uri": "https://localhost:8080/"
        },
        "outputId": "f139a7b5-12d1-4a25-c637-7d0a1348a8e8"
      },
      "outputs": [
        {
          "output_type": "execute_result",
          "data": {
            "text/plain": [
              "LinearRegression()"
            ]
          },
          "metadata": {},
          "execution_count": 70
        }
      ],
      "source": [
        "lm = LinearRegression()\n",
        "lm"
      ]
    },
    {
      "cell_type": "code",
      "execution_count": null,
      "metadata": {
        "id": "glYO9L5KhPpU",
        "colab": {
          "base_uri": "https://localhost:8080/"
        },
        "outputId": "49217d5b-efe8-4945-e4e0-43d7e6624b92"
      },
      "outputs": [
        {
          "output_type": "execute_result",
          "data": {
            "text/plain": [
              "LinearRegression()"
            ]
          },
          "metadata": {},
          "execution_count": 71
        }
      ],
      "source": [
        "lm.fit(Z, df['cooling_load'])"
      ]
    },
    {
      "cell_type": "code",
      "execution_count": null,
      "metadata": {
        "id": "ouymFoWyhTmM",
        "colab": {
          "base_uri": "https://localhost:8080/"
        },
        "outputId": "7e302b98-6d98-4ae6-998a-f97c2e2fd056"
      },
      "outputs": [
        {
          "output_type": "execute_result",
          "data": {
            "text/plain": [
              "96.95532413008695"
            ]
          },
          "metadata": {},
          "execution_count": 72
        }
      ],
      "source": [
        "lm.intercept_"
      ]
    },
    {
      "cell_type": "code",
      "execution_count": null,
      "metadata": {
        "id": "rd-Fb7V_hU82",
        "colab": {
          "base_uri": "https://localhost:8080/"
        },
        "outputId": "7f2e43ca-3b4c-45ce-ef74-b31550a0ebc0"
      },
      "outputs": [
        {
          "output_type": "execute_result",
          "data": {
            "text/plain": [
              "array([-7.01347032e+01, -9.26113574e+11,  9.26113574e+11,  1.85222715e+12,\n",
              "        4.28170204e+00,  1.47882691e+01])"
            ]
          },
          "metadata": {},
          "execution_count": 73
        }
      ],
      "source": [
        "lm.coef_"
      ]
    },
    {
      "cell_type": "code",
      "execution_count": null,
      "metadata": {
        "id": "vXB7oJEFhVSV"
      },
      "outputs": [],
      "source": [
        "Y_hat = lm.predict(Z)"
      ]
    },
    {
      "cell_type": "code",
      "execution_count": null,
      "metadata": {
        "id": "u8ulk6yJhWib",
        "colab": {
          "base_uri": "https://localhost:8080/"
        },
        "outputId": "ed763771-26fa-4077-b567-566d1cc936e9"
      },
      "outputs": [
        {
          "output_type": "stream",
          "name": "stderr",
          "text": [
            "/usr/local/lib/python3.7/dist-packages/seaborn/distributions.py:2619: FutureWarning: `distplot` is a deprecated function and will be removed in a future version. Please adapt your code to use either `displot` (a figure-level function with similar flexibility) or `kdeplot` (an axes-level function for kernel density plots).\n",
            "  warnings.warn(msg, FutureWarning)\n",
            "/usr/local/lib/python3.7/dist-packages/seaborn/distributions.py:2619: FutureWarning: `distplot` is a deprecated function and will be removed in a future version. Please adapt your code to use either `displot` (a figure-level function with similar flexibility) or `kdeplot` (an axes-level function for kernel density plots).\n",
            "  warnings.warn(msg, FutureWarning)\n"
          ]
        },
        {
          "output_type": "display_data",
          "data": {
            "text/plain": [
              "<Figure size 864x720 with 1 Axes>"
            ],
            "image/png": "[encoded data removed]"
          },
          "metadata": {
            "needs_background": "light"
          }
        }
      ],
      "source": [
        "plt.figure(figsize=(12, 10))\n",
        "\n",
        "\n",
        "ax1 = sns.distplot(df['cooling_load'], hist=False, color=\"r\", label=\"Actual Value\")\n",
        "sns.distplot(Y_hat, hist=False, color=\"b\", label=\"Fitted Values\" , ax=ax1)\n",
        "\n",
        "\n",
        "plt.title('Actual vs Fitted Values for Cooling Load')\n",
        "plt.xlabel('Cooling Load')\n",
        "plt.ylabel('Building Parameters')\n",
        "\n",
        "plt.show()\n",
        "plt.close()"
      ]
    },
    {
      "cell_type": "code",
      "source": [
        "# fit the model \n",
        "lm.fit(Z, df['cooling_load'])\n",
        "# Find the R^2\n",
        "print('The R-square is (MLR): ', lm.score(Z, df['cooling_load']))"
      ],
      "metadata": {
        "colab": {
          "base_uri": "https://localhost:8080/"
        },
        "id": "HCwP_hWgiyZB",
        "outputId": "44e14425-12c5-4edf-e3ba-fa35b85025d5"
      },
      "execution_count": null,
      "outputs": [
        {
          "output_type": "stream",
          "name": "stdout",
          "text": [
            "The R-square is (MLR):  0.8872094863907912\n"
          ]
        }
      ]
    },
    {
      "cell_type": "code",
      "source": [
        "Y_predict_multifit = lm.predict(Z)"
      ],
      "metadata": {
        "id": "7JnvpYsYi_rE"
      },
      "execution_count": null,
      "outputs": []
    },
    {
      "cell_type": "code",
      "source": [
        "print('The mean square error of cooling load and predicted value using multifit is: ', mean_squared_error(df['cooling_load'], Y_predict_multifit))"
      ],
      "metadata": {
        "colab": {
          "base_uri": "https://localhost:8080/"
        },
        "id": "wy0gBqocjAsr",
        "outputId": "2e5cd67d-4a1c-4c4b-94fd-b234d88d8c22"
      },
      "execution_count": null,
      "outputs": [
        {
          "output_type": "stream",
          "name": "stdout",
          "text": [
            "The mean square error of cooling load and predicted value using multifit is:  10.194586396712685\n"
          ]
        }
      ]
    },
    {
      "cell_type": "markdown",
      "metadata": {
        "id": "2PAVQaEGlHOj"
      },
      "source": [
        "## Polynomial Regression (Cooling Load)"
      ]
    },
    {
      "cell_type": "code",
      "source": [
        "def PlotPolly(model, independent_variable, dependent_variabble, Name):\n",
        "    x_new = np.linspace(15, 55, 100)\n",
        "    y_new = model(x_new)\n",
        "\n",
        "    plt.plot(independent_variable, dependent_variabble, '.', x_new, y_new, '-')\n",
        "    plt.title('Polynomial Fit with Matplotlib for Cooling Load')\n",
        "    ax = plt.gca()\n",
        "    ax.set_facecolor((0.898, 0.898, 0.898))\n",
        "    fig = plt.gcf()\n",
        "    plt.xlabel(Name)\n",
        "    plt.ylabel('Cooling Load')\n",
        "\n",
        "    plt.show()\n",
        "    plt.close()"
      ],
      "metadata": {
        "id": "pTrWUbcujV1f"
      },
      "execution_count": null,
      "outputs": []
    },
    {
      "cell_type": "code",
      "source": [
        "x = df['overall_height']\n",
        "y = df['cooling_load']"
      ],
      "metadata": {
        "id": "T0WcODVWjXe0"
      },
      "execution_count": null,
      "outputs": []
    },
    {
      "cell_type": "code",
      "source": [
        "# Here we use a polynomial of the 3rd order (cubic) \n",
        "f = np.polyfit(x, y, 3)\n",
        "p = np.poly1d(f)\n",
        "print(p)"
      ],
      "metadata": {
        "colab": {
          "base_uri": "https://localhost:8080/"
        },
        "id": "IxC0unV9jYtu",
        "outputId": "5ef6fde7-0b6c-4dfc-ce52-1c059c9fc55b"
      },
      "execution_count": null,
      "outputs": [
        {
          "output_type": "stream",
          "name": "stdout",
          "text": [
            "         3          2\n",
            "0.02098 x + 0.1671 x + 1.313 x + 8.53\n"
          ]
        },
        {
          "output_type": "stream",
          "name": "stderr",
          "text": [
            "/usr/local/lib/python3.7/dist-packages/IPython/core/interactiveshell.py:2882: RankWarning: Polyfit may be poorly conditioned\n",
            "  exec(code_obj, self.user_global_ns, self.user_ns)\n"
          ]
        }
      ]
    },
    {
      "cell_type": "code",
      "source": [
        "PlotPolly(p, x, y, 'overall_height')"
      ],
      "metadata": {
        "colab": {
          "base_uri": "https://localhost:8080/"
        },
        "id": "xkx2AOzjjZtU",
        "outputId": "c839d877-c7fd-4f0d-f12e-615a3ebec9da"
      },
      "execution_count": null,
      "outputs": [
        {
          "output_type": "display_data",
          "data": {
            "text/plain": [
              "<Figure size 432x288 with 1 Axes>"
            ],
            "image/png": "[encoded data removed]"
          },
          "metadata": {
            "needs_background": "light"
          }
        }
      ]
    },
    {
      "cell_type": "code",
      "source": [
        "np.polyfit(x, y, 3)"
      ],
      "metadata": {
        "colab": {
          "base_uri": "https://localhost:8080/"
        },
        "id": "Tfr9YGmqja-1",
        "outputId": "2dcde792-977e-44b8-e815-68efb89cc41a"
      },
      "execution_count": null,
      "outputs": [
        {
          "output_type": "stream",
          "name": "stderr",
          "text": [
            "/usr/local/lib/python3.7/dist-packages/IPython/core/interactiveshell.py:2882: RankWarning: Polyfit may be poorly conditioned\n",
            "  exec(code_obj, self.user_global_ns, self.user_ns)\n"
          ]
        },
        {
          "output_type": "execute_result",
          "data": {
            "text/plain": [
              "array([0.02097775, 0.16712467, 1.31282178, 8.52985763])"
            ]
          },
          "metadata": {},
          "execution_count": 83
        }
      ]
    },
    {
      "cell_type": "code",
      "execution_count": null,
      "metadata": {
        "id": "zfozdzu7lGri",
        "colab": {
          "base_uri": "https://localhost:8080/"
        },
        "outputId": "6d29d46e-cf27-4233-8c33-0977cf1ab1bf"
      },
      "outputs": [
        {
          "output_type": "execute_result",
          "data": {
            "text/plain": [
              "PolynomialFeatures()"
            ]
          },
          "metadata": {},
          "execution_count": 84
        }
      ],
      "source": [
        "pr=PolynomialFeatures(degree=2)\n",
        "pr"
      ]
    },
    {
      "cell_type": "code",
      "execution_count": null,
      "metadata": {
        "id": "Lr7gFgL9lK9x"
      },
      "outputs": [],
      "source": [
        "Z_pr=pr.fit_transform(Z)"
      ]
    },
    {
      "cell_type": "code",
      "execution_count": null,
      "metadata": {
        "id": "h1itjcc3lPuq",
        "colab": {
          "base_uri": "https://localhost:8080/"
        },
        "outputId": "e2713276-c5bb-4565-8d36-0a3a6933009f"
      },
      "outputs": [
        {
          "output_type": "execute_result",
          "data": {
            "text/plain": [
              "(768, 6)"
            ]
          },
          "metadata": {},
          "execution_count": 86
        }
      ],
      "source": [
        "Z.shape"
      ]
    },
    {
      "cell_type": "code",
      "execution_count": null,
      "metadata": {
        "id": "xxM_2jLMlRXV",
        "colab": {
          "base_uri": "https://localhost:8080/"
        },
        "outputId": "8632ee41-677d-4edd-e692-357b18f4d497"
      },
      "outputs": [
        {
          "output_type": "execute_result",
          "data": {
            "text/plain": [
              "(768, 28)"
            ]
          },
          "metadata": {},
          "execution_count": 87
        }
      ],
      "source": [
        "Z_pr.shape"
      ]
    },
    {
      "cell_type": "code",
      "source": [
        "from sklearn.metrics import r2_score"
      ],
      "metadata": {
        "id": "NGd116IljrvM"
      },
      "execution_count": null,
      "outputs": []
    },
    {
      "cell_type": "code",
      "source": [
        "r_squared = r2_score(y, p(x))\n",
        "print('The R-square value is (PR): ', r_squared)"
      ],
      "metadata": {
        "colab": {
          "base_uri": "https://localhost:8080/"
        },
        "id": "fPytdJWTjtLx",
        "outputId": "6e1be843-ec98-45bc-d018-46292e9ce2db"
      },
      "execution_count": null,
      "outputs": [
        {
          "output_type": "stream",
          "name": "stdout",
          "text": [
            "The R-square value is (PR):  0.8024310688076752\n"
          ]
        }
      ]
    },
    {
      "cell_type": "code",
      "source": [
        "mean_squared_error(df['cooling_load'], p(x))"
      ],
      "metadata": {
        "colab": {
          "base_uri": "https://localhost:8080/"
        },
        "id": "7Vjdt8Yzjtx0",
        "outputId": "99d62287-e373-45a0-87d8-9ff383734585"
      },
      "execution_count": null,
      "outputs": [
        {
          "output_type": "execute_result",
          "data": {
            "text/plain": [
              "17.85729556410048"
            ]
          },
          "metadata": {},
          "execution_count": 90
        }
      ]
    },
    {
      "cell_type": "markdown",
      "source": [
        "## KESIMPULAN"
      ],
      "metadata": {
        "id": "dcDinZUdm_e5"
      }
    },
    {
      "cell_type": "markdown",
      "source": [
        "Untuk cooling load:\n",
        "1. SLR\n",
        "R2 = 0.887987009965136\n",
        "MSE = 17.85729556410048\n",
        "\n",
        "2. MLR\n",
        "R2 = 0.8872094863907912\n",
        "MSE = 10.194586396712685\n",
        "\n",
        "3. PR\n",
        "R2 = 0.7379239852258845\n",
        "MSE = 17.85729556410048\n"
      ],
      "metadata": {
        "id": "FgL4LnApm1ez"
      }
    },
    {
      "cell_type": "markdown",
      "source": [
        "Dapat disimpulkan, bahwa MLR model merupakan model terbaik untuk memprediksi cooling load dari dataset kami."
      ],
      "metadata": {
        "id": "DaeKC2Dzm4MP"
      }
    },
    {
      "cell_type": "markdown",
      "metadata": {
        "id": "5dlI8DcCTZx_"
      },
      "source": [
        "# Bagian 5"
      ]
    },
    {
      "cell_type": "markdown",
      "metadata": {
        "id": "_OaAZrN2W6xg"
      },
      "source": [
        "## Function for Plotting"
      ]
    },
    {
      "cell_type": "code",
      "execution_count": null,
      "metadata": {
        "id": "9lLcSjBHW5MI"
      },
      "outputs": [],
      "source": [
        "#Distribution Plot\n",
        "def DistributionPlot(RedFunction, BlueFunction, RedName, BlueName, Title):\n",
        "    width = 12\n",
        "    height = 10\n",
        "    plt.figure(figsize=(width, height))\n",
        "\n",
        "    ax1 = sns.distplot(RedFunction, hist=False, color=\"r\", label=RedName)\n",
        "    ax2 = sns.distplot(BlueFunction, hist=False, color=\"b\", label=BlueName, ax=ax1)\n",
        "\n",
        "    plt.title(Title)\n",
        "    plt.xlabel('Heating Load')\n",
        "    plt.ylabel('Proportion')\n",
        "\n",
        "    plt.show()\n",
        "    plt.close()"
      ]
    },
    {
      "cell_type": "code",
      "execution_count": null,
      "metadata": {
        "id": "k7G420BFXZeU"
      },
      "outputs": [],
      "source": [
        "#PollyPlot\n",
        "def PollyPlot(xtrain, xtest, y_train, y_test, lr,poly_transform):\n",
        "    width = 12\n",
        "    height = 10\n",
        "    plt.figure(figsize=(width, height))\n",
        "    \n",
        "    \n",
        "    #training data \n",
        "    #testing data \n",
        "    # lr:  linear regression object \n",
        "    #poly_transform:  polynomial transformation object \n",
        " \n",
        "    xmax=max([xtrain.values.max(), xtest.values.max()])\n",
        "\n",
        "    xmin=min([xtrain.values.min(), xtest.values.min()])\n",
        "\n",
        "    x=np.arange(xmin, xmax, 0.1)\n",
        "\n",
        "\n",
        "    plt.plot(xtrain, y_train, 'ro', label='Training Data')\n",
        "    plt.plot(xtest, y_test, 'go', label='Test Data')\n",
        "    plt.plot(x, lr.predict(poly_transform.fit_transform(x.reshape(-1, 1))), label='Predicted Function')\n",
        "    plt.ylim([-10000, 60000])\n",
        "    plt.ylabel('Price')\n",
        "    plt.legend()"
      ]
    },
    {
      "cell_type": "markdown",
      "metadata": {
        "id": "-dzTyKR_9pwp"
      },
      "source": [
        "##Heating Load"
      ]
    },
    {
      "cell_type": "markdown",
      "metadata": {
        "id": "7IYbyrB_W0_2"
      },
      "source": [
        "###Training and Testing"
      ]
    },
    {
      "cell_type": "code",
      "execution_count": null,
      "metadata": {
        "id": "yLsnf50gUU5g"
      },
      "outputs": [],
      "source": [
        "##Tambahan code buat yang perlu\n",
        "#Memasukan x_data dan y_data\n",
        "\n",
        "x_data = df.drop(columns=['heating_load', 'cooling_load'])\n",
        "y_data_heat = df[[\"heating_load\"]]"
      ]
    },
    {
      "cell_type": "code",
      "execution_count": null,
      "metadata": {
        "id": "iYiNX4JkTfYX",
        "colab": {
          "base_uri": "https://localhost:8080/"
        },
        "outputId": "f0034763-8a61-44ea-e815-07878bf8d7dc"
      },
      "outputs": [
        {
          "output_type": "stream",
          "name": "stdout",
          "text": [
            "Jumlah test sample: 269\n",
            "Jumlah training sample: 499\n"
          ]
        }
      ],
      "source": [
        "from sklearn.model_selection import train_test_split\n",
        "\n",
        "x_train, x_test, y_train, y_test = train_test_split(x_data, y_data_heat, test_size= 0.35, random_state = 0)\n",
        "print(\"Jumlah test sample:\", x_test.shape[0])\n",
        "print(\"Jumlah training sample:\", x_train.shape[0])"
      ]
    },
    {
      "cell_type": "markdown",
      "metadata": {
        "id": "CS-YsKCu0nbY"
      },
      "source": [
        "Membagi data testing (35%) dan training (65%) \n",
        "Data training untuk membuat model dan membuat prediksi\n",
        "Data testing dibuat untuk mengevaluasi performa"
      ]
    },
    {
      "cell_type": "code",
      "execution_count": null,
      "metadata": {
        "id": "rzxqIW4inRlQ"
      },
      "outputs": [],
      "source": [
        "#Linear Regression\n",
        "#Import Linear Regression\n",
        "from sklearn.linear_model import LinearRegression\n",
        "\n",
        "#Membuat object linear regression\n",
        "lre = LinearRegression()"
      ]
    },
    {
      "cell_type": "code",
      "execution_count": null,
      "metadata": {
        "id": "7RYrR2wdY0FE",
        "colab": {
          "base_uri": "https://localhost:8080/"
        },
        "outputId": "6ce565ed-9878-4783-b0eb-dca830bea73f"
      },
      "outputs": [
        {
          "output_type": "execute_result",
          "data": {
            "text/plain": [
              "LinearRegression()"
            ]
          },
          "metadata": {},
          "execution_count": 96
        }
      ],
      "source": [
        "lre.fit(x_train, y_train)"
      ]
    },
    {
      "cell_type": "markdown",
      "metadata": {
        "id": "GCvltEJE083M"
      },
      "source": [
        "Data fitting\n",
        "\n",
        "Menghitung nilai R^2 pada test data\n",
        "Nilai R2 merupakan nilai kemampuan model regresi untuk mengaproksimaasi data point\n",
        "\n",
        "Semakin mendekati 1, maka nilai aproksimasi akan semakin akurat"
      ]
    },
    {
      "cell_type": "markdown",
      "metadata": {
        "id": "wfKXgFhL2oh2"
      },
      "source": [
        "Menghitung nilai R^2 pada testing data"
      ]
    },
    {
      "cell_type": "code",
      "execution_count": null,
      "metadata": {
        "id": "GYmaW00u0GcI",
        "colab": {
          "base_uri": "https://localhost:8080/"
        },
        "outputId": "fa804fdb-49ac-4e5d-9877-c011bcaa75fb"
      },
      "outputs": [
        {
          "output_type": "execute_result",
          "data": {
            "text/plain": [
              "0.9033093227551899"
            ]
          },
          "metadata": {},
          "execution_count": 97
        }
      ],
      "source": [
        "lre.score(x_test ,y_test)"
      ]
    },
    {
      "cell_type": "markdown",
      "metadata": {
        "id": "-GgGmFJx2op9"
      },
      "source": [
        "Menghitung nilai R^2 pada train data"
      ]
    },
    {
      "cell_type": "code",
      "execution_count": null,
      "metadata": {
        "id": "E5k1CS5ZcaeI",
        "colab": {
          "base_uri": "https://localhost:8080/"
        },
        "outputId": "3c7a1308-a0e4-44e2-8f37-38d7da50696b"
      },
      "outputs": [
        {
          "output_type": "execute_result",
          "data": {
            "text/plain": [
              "0.9225940963509918"
            ]
          },
          "metadata": {},
          "execution_count": 98
        }
      ],
      "source": [
        "lre.score(x_train, y_train)"
      ]
    },
    {
      "cell_type": "markdown",
      "metadata": {
        "id": "OlZi43zL2Lv9"
      },
      "source": [
        "Nilai R^2 pada training data lebih besar dibandingkan dengan testing data"
      ]
    },
    {
      "cell_type": "markdown",
      "metadata": {
        "id": "1bMLLrxCfAZZ"
      },
      "source": [
        "Cross-Validation Score"
      ]
    },
    {
      "cell_type": "markdown",
      "metadata": {
        "id": "r2XiPgdJsbaa"
      },
      "source": [
        "Generalization Performance\n",
        "\n",
        "Generelization error Mengukur seberapa baik data kita meprediksi unseen data\n",
        "\n",
        "Error yang didapat menggunakan testing data merupakan aproksimasi dari error ini\n",
        "\n",
        "Kalau misalnya data trainingnya > testing, maka model akan semakin akurat, namun kurang presisi\n",
        "\n",
        "Kalau misalnya data testing > training maka model akan semakin presisi, namun kurang akurat\n",
        "\n",
        "Cross validation : membagi menjadi fold"
      ]
    },
    {
      "cell_type": "code",
      "execution_count": null,
      "metadata": {
        "id": "ZqLKOa_NXGig",
        "colab": {
          "base_uri": "https://localhost:8080/"
        },
        "outputId": "9422f701-950b-48e9-e361-efa0e1e85ee7"
      },
      "outputs": [
        {
          "output_type": "stream",
          "name": "stdout",
          "text": [
            "Cross Validation Score\n",
            "[0.79522454 0.8979559  0.92388911 0.92483289 0.91633982]\n"
          ]
        }
      ],
      "source": [
        "from sklearn.model_selection import cross_val_score\n",
        "#Cross validation score\n",
        "print(\"Cross Validation Score\")\n",
        "scores = cross_val_score(lre, x_data, y_data_heat, cv = 5)\n",
        "#modelnya linear regression\n",
        "#banyak paritisi datanya\n",
        "print(scores)"
      ]
    },
    {
      "cell_type": "markdown",
      "metadata": {
        "id": "D3Zh_bn7C4yT"
      },
      "source": [
        "Data dibagi manjadi 5 folds, 4 fold digunakan untuk testing dan 1 folds lainya digunakan untuk training pada masing-masing percobaan"
      ]
    },
    {
      "cell_type": "code",
      "execution_count": null,
      "metadata": {
        "id": "LO9egsX9oEXU",
        "colab": {
          "base_uri": "https://localhost:8080/"
        },
        "outputId": "4a648870-787e-4f6d-eb56-5f8f6da4aeb3"
      },
      "outputs": [
        {
          "output_type": "stream",
          "name": "stdout",
          "text": [
            "Average Cross Validation Scorenya nya adalah:  0.8916484546588602\n"
          ]
        }
      ],
      "source": [
        "print(\"Average Cross Validation Scorenya nya adalah: \",np.mean(scores))"
      ]
    },
    {
      "cell_type": "markdown",
      "metadata": {
        "id": "VntHWMrMJ05V"
      },
      "source": [
        "Cross Validation Prediction"
      ]
    },
    {
      "cell_type": "code",
      "execution_count": null,
      "metadata": {
        "id": "UV-0QgXLORj2",
        "colab": {
          "base_uri": "https://localhost:8080/"
        },
        "outputId": "bfd6a741-7379-46ee-c821-c950d15bf371"
      },
      "outputs": [
        {
          "output_type": "stream",
          "name": "stdout",
          "text": [
            "Cross validation Prediction\n",
            "[[25.2717099 ]\n",
            " [25.26085758]\n",
            " [25.25000526]\n",
            " [25.23915294]\n",
            " [27.4748349 ]]\n"
          ]
        }
      ],
      "source": [
        "print(\"Cross validation Prediction\")\n",
        "from sklearn.model_selection import cross_val_predict\n",
        "yhat = cross_val_predict(lre, x_data, y_data_heat, cv = 5)\n",
        "print(yhat[0:5])"
      ]
    },
    {
      "cell_type": "markdown",
      "metadata": {
        "id": "DLmP2psSJ5u5"
      },
      "source": [
        "Array tersebut merupakan nilai prediksi dan nilai yang terukur (nilai data sebenarnya) pada variable output (dependent variable)"
      ]
    },
    {
      "cell_type": "code",
      "execution_count": null,
      "metadata": {
        "id": "i5aqB2iXFupl",
        "colab": {
          "base_uri": "https://localhost:8080/"
        },
        "outputId": "906bdb6c-0b99-4a16-fa71-9393b542dbaf"
      },
      "outputs": [
        {
          "output_type": "display_data",
          "data": {
            "text/plain": [
              "<Figure size 432x288 with 1 Axes>"
            ],
            "image/png": "[encoded data removed]"
          },
          "metadata": {
            "needs_background": "light"
          }
        }
      ],
      "source": [
        "import matplotlib.pyplot as plt\n",
        "predicted = yhat\n",
        "X = x_data\n",
        "y = y_data_heat\n",
        "fig, ax = plt.subplots()\n",
        "ax.scatter(y, predicted, edgecolors=(0, 0, 0))\n",
        "ax.plot([y.min(), y.max()], [y.min(), y.max()], \"k--\", lw=4)\n",
        "plt.title(\"Perbandingan Measured dan Predicted Value pada Heating Load\")\n",
        "ax.set_xlabel(\"Measured\")\n",
        "ax.set_ylabel(\"Predicted\")\n",
        "plt.show()"
      ]
    },
    {
      "cell_type": "markdown",
      "metadata": {
        "id": "mu0dt6inKKJP"
      },
      "source": [
        "Plotting nilai predicted dan measured sesuai dengan array\n",
        "\n",
        "Didapatkan bahwa data tidak menyebar dan berada di dekat garis linear"
      ]
    },
    {
      "cell_type": "markdown",
      "metadata": {
        "id": "ta8HDT6vr8_X"
      },
      "source": [
        "###Overfitting, Underfitting and Model Selection"
      ]
    },
    {
      "cell_type": "markdown",
      "metadata": {
        "id": "qG2-lqJQPDF-"
      },
      "source": [
        "Membuat prediction menggunakan training data"
      ]
    },
    {
      "cell_type": "code",
      "execution_count": null,
      "metadata": {
        "id": "bAI-B3o6PCSZ",
        "colab": {
          "base_uri": "https://localhost:8080/"
        },
        "outputId": "00ba2fa4-e375-4de6-aa4a-abc05a8e774c"
      },
      "outputs": [
        {
          "output_type": "execute_result",
          "data": {
            "text/plain": [
              "array([[25.43936242],\n",
              "       [15.55176097],\n",
              "       [15.67531818],\n",
              "       [26.84219416],\n",
              "       [37.45985925]])"
            ]
          },
          "metadata": {},
          "execution_count": 103
        }
      ],
      "source": [
        "lre.fit(x_train, y_train)\n",
        "yhat_train = lre.predict(x_train)\n",
        "yhat_train[0:5]"
      ]
    },
    {
      "cell_type": "markdown",
      "metadata": {
        "id": "a8ohFj8EP5a6"
      },
      "source": [
        "Membuat prediction menggunakan testing data"
      ]
    },
    {
      "cell_type": "code",
      "execution_count": null,
      "metadata": {
        "id": "jkUK-E0-P742",
        "colab": {
          "base_uri": "https://localhost:8080/"
        },
        "outputId": "455119d4-7e8c-4c44-873f-020486a5c6e5"
      },
      "outputs": [
        {
          "output_type": "execute_result",
          "data": {
            "text/plain": [
              "array([[17.33511088],\n",
              "       [ 8.00784917],\n",
              "       [29.90541555],\n",
              "       [26.25186242],\n",
              "       [31.12946246]])"
            ]
          },
          "metadata": {},
          "execution_count": 104
        }
      ],
      "source": [
        "yhat_test = lre.predict(x_test)\n",
        "yhat_test[0:5]"
      ]
    },
    {
      "cell_type": "code",
      "execution_count": null,
      "metadata": {
        "id": "RkbNBwBgQY9O",
        "colab": {
          "base_uri": "https://localhost:8080/"
        },
        "outputId": "a7067494-5dad-4dd0-aa30-5acb0e8ab255"
      },
      "outputs": [
        {
          "output_type": "stream",
          "name": "stderr",
          "text": [
            "/usr/local/lib/python3.7/dist-packages/seaborn/distributions.py:2619: FutureWarning: `distplot` is a deprecated function and will be removed in a future version. Please adapt your code to use either `displot` (a figure-level function with similar flexibility) or `kdeplot` (an axes-level function for kernel density plots).\n",
            "  warnings.warn(msg, FutureWarning)\n",
            "/usr/local/lib/python3.7/dist-packages/seaborn/distributions.py:2619: FutureWarning: `distplot` is a deprecated function and will be removed in a future version. Please adapt your code to use either `displot` (a figure-level function with similar flexibility) or `kdeplot` (an axes-level function for kernel density plots).\n",
            "  warnings.warn(msg, FutureWarning)\n"
          ]
        },
        {
          "output_type": "display_data",
          "data": {
            "text/plain": [
              "<Figure size 864x720 with 1 Axes>"
            ],
            "image/png": "[encoded data removed]"
          },
          "metadata": {
            "needs_background": "light"
          }
        }
      ],
      "source": [
        "%matplotlib inline\n",
        "Title = 'Distribution Plot of  Predicted Value Using Training Data vs Training Data Distribution'\n",
        "DistributionPlot(y_train, yhat_train, \"Actual Values (Train)\",\"Predicted Values (Train)\", Title)"
      ]
    },
    {
      "cell_type": "markdown",
      "metadata": {
        "id": "Cs7elup6XKWO"
      },
      "source": [
        "Visualisai data menggunakan grafik\n",
        "\n",
        "\n",
        "*   Merah : Actual Values\n",
        "*   Biru : Predicted Value\n",
        "\n"
      ]
    },
    {
      "cell_type": "code",
      "execution_count": null,
      "metadata": {
        "id": "IOQrTZyiROd5",
        "colab": {
          "base_uri": "https://localhost:8080/"
        },
        "outputId": "0b1227a5-e20b-4ead-a6b9-99f4b9904401"
      },
      "outputs": [
        {
          "output_type": "stream",
          "name": "stderr",
          "text": [
            "/usr/local/lib/python3.7/dist-packages/seaborn/distributions.py:2619: FutureWarning: `distplot` is a deprecated function and will be removed in a future version. Please adapt your code to use either `displot` (a figure-level function with similar flexibility) or `kdeplot` (an axes-level function for kernel density plots).\n",
            "  warnings.warn(msg, FutureWarning)\n",
            "/usr/local/lib/python3.7/dist-packages/seaborn/distributions.py:2619: FutureWarning: `distplot` is a deprecated function and will be removed in a future version. Please adapt your code to use either `displot` (a figure-level function with similar flexibility) or `kdeplot` (an axes-level function for kernel density plots).\n",
            "  warnings.warn(msg, FutureWarning)\n"
          ]
        },
        {
          "output_type": "display_data",
          "data": {
            "text/plain": [
              "<Figure size 864x720 with 1 Axes>"
            ],
            "image/png": "[encoded data removed]"
          },
          "metadata": {
            "needs_background": "light"
          }
        }
      ],
      "source": [
        "Title='Distribution  Plot of  Predicted Value Using Test Data vs Data Distribution of Test Data'\n",
        "\n",
        "DistributionPlot(y_test,yhat_test,\"Actual Values (Test)\",\"Predicted Values (Test)\",Title)"
      ]
    },
    {
      "cell_type": "markdown",
      "metadata": {
        "id": "kxQpfBW63Fhn"
      },
      "source": [
        "Kedua model tersebut akurat dalam memprediksi output pada distibusi data range 0 - 20, namun kurang akurat dalam memprediksi output pada distribusi data dalam rage 20 - 55"
      ]
    },
    {
      "cell_type": "markdown",
      "metadata": {
        "id": "zIiyUKKo5kXP"
      },
      "source": [
        "Overfitting"
      ]
    },
    {
      "cell_type": "code",
      "execution_count": null,
      "metadata": {
        "id": "m8ue5lFw5msW"
      },
      "outputs": [],
      "source": [
        "from sklearn.preprocessing import PolynomialFeatures\n",
        "x_train, x_test, y_train, y_test = train_test_split(x_data, y_data_heat, test_size=0.45, random_state=0)"
      ]
    },
    {
      "cell_type": "markdown",
      "metadata": {
        "id": "zYKBOw8jjmOu"
      },
      "source": [
        "Membagi train dan testing data dengan komposisi testing data sebesar 45%"
      ]
    },
    {
      "cell_type": "code",
      "execution_count": null,
      "metadata": {
        "id": "F_9nYA7x5010",
        "colab": {
          "base_uri": "https://localhost:8080/"
        },
        "outputId": "1b094a0a-d4c0-4430-b039-ca34e73718b0"
      },
      "outputs": [
        {
          "output_type": "execute_result",
          "data": {
            "text/plain": [
              "LinearRegression()"
            ]
          },
          "metadata": {},
          "execution_count": 108
        }
      ],
      "source": [
        "pr = PolynomialFeatures(degree=4)\n",
        "x_train_pr = pr.fit_transform(x_train)\n",
        "x_test_pr = pr.fit_transform(x_test)\n",
        "poly = LinearRegression()\n",
        "poly.fit(x_train_pr, y_train)"
      ]
    },
    {
      "cell_type": "markdown",
      "metadata": {
        "id": "h3J_CNosjr5Z"
      },
      "source": [
        "Orde degree optimal yang digunakan adalah 4"
      ]
    },
    {
      "cell_type": "code",
      "execution_count": null,
      "metadata": {
        "id": "5UL1n8346Aoe"
      },
      "outputs": [],
      "source": [
        "yhat = poly.predict(x_test_pr)"
      ]
    },
    {
      "cell_type": "code",
      "execution_count": null,
      "metadata": {
        "id": "8jKXVwZx6Dso",
        "colab": {
          "base_uri": "https://localhost:8080/"
        },
        "outputId": "7ed81f7b-401c-4286-cb8d-d8ab29dd0b1b"
      },
      "outputs": [
        {
          "output_type": "stream",
          "name": "stdout",
          "text": [
            "Predicted values: [[15.14121463]\n",
            " [10.02967575]\n",
            " [36.87342575]\n",
            " [17.51359906]]\n",
            "True values: [[15.18]\n",
            " [10.32]\n",
            " [37.26]\n",
            " [16.95]]\n"
          ]
        }
      ],
      "source": [
        "print(\"Predicted values:\", yhat[0:4])\n",
        "print(\"True values:\", y_test[0:4].values)"
      ]
    },
    {
      "cell_type": "markdown",
      "metadata": {
        "id": "vGI-LiVPkAmi"
      },
      "source": [
        "Didapatkan array yang berisikan predicted values yang didapatkan dari true values menggunakan perhitungan dengan fungsi poly.predict()"
      ]
    },
    {
      "cell_type": "code",
      "execution_count": null,
      "metadata": {
        "id": "d2GGFMxg7wQV",
        "colab": {
          "base_uri": "https://localhost:8080/"
        },
        "outputId": "8d96f2a3-7fe0-449a-c2b0-2426c0ddfd35"
      },
      "outputs": [
        {
          "output_type": "execute_result",
          "data": {
            "text/plain": [
              "0.9991109299420331"
            ]
          },
          "metadata": {},
          "execution_count": 111
        }
      ],
      "source": [
        "poly.score(x_train_pr, y_train)"
      ]
    },
    {
      "cell_type": "markdown",
      "metadata": {
        "id": "hYtE7MKhkN2g"
      },
      "source": [
        "Poly Score dari data training adalah 0.99 yang menandakan bahwa model linear telah mendekati kesesuaian"
      ]
    },
    {
      "cell_type": "code",
      "execution_count": null,
      "metadata": {
        "id": "yalXS5UP7yMS",
        "colab": {
          "base_uri": "https://localhost:8080/"
        },
        "outputId": "7f331006-7f91-4e18-a49f-1daa8cc66cb2"
      },
      "outputs": [
        {
          "output_type": "execute_result",
          "data": {
            "text/plain": [
              "0.9964388686965586"
            ]
          },
          "metadata": {},
          "execution_count": 112
        }
      ],
      "source": [
        "poly.score(x_test_pr, y_test)"
      ]
    },
    {
      "cell_type": "markdown",
      "metadata": {
        "id": "7CxdMObNgqnt"
      },
      "source": [
        "Poly Score bernilai mendekati 1, yang menandakan bahwa data telah mendekati kesusaian"
      ]
    },
    {
      "cell_type": "code",
      "execution_count": null,
      "metadata": {
        "id": "_go_FW--71Ju",
        "colab": {
          "base_uri": "https://localhost:8080/"
        },
        "outputId": "474665b4-6e5b-4183-bd3e-96297ec54146"
      },
      "outputs": [
        {
          "output_type": "execute_result",
          "data": {
            "text/plain": [
              "Text(4, 0.98, 'Maximum R^2 ')"
            ]
          },
          "metadata": {},
          "execution_count": 113
        },
        {
          "output_type": "display_data",
          "data": {
            "text/plain": [
              "<Figure size 432x288 with 1 Axes>"
            ],
            "image/png": "[encoded data removed]"
          },
          "metadata": {
            "needs_background": "light"
          }
        }
      ],
      "source": [
        "Rsqu_test = []\n",
        "\n",
        "order = [1, 2, 3, 4,  5, 6, 7, 8, 9, 10]\n",
        "for n in order:\n",
        "    pr = PolynomialFeatures(degree=n)\n",
        "    \n",
        "    x_train_pr = pr.fit_transform(x_train)\n",
        "    \n",
        "    x_test_pr = pr.fit_transform(x_test)    \n",
        "    \n",
        "    lre.fit(x_train_pr, y_train)\n",
        "    \n",
        "    Rsqu_test.append(lre.score(x_test_pr, y_test))\n",
        "\n",
        "plt.plot(order, Rsqu_test)\n",
        "plt.xlabel('order')\n",
        "plt.ylabel('R^2')\n",
        "plt.title('R^2 Using Test Data')\n",
        "plt.text(4, 0.98, 'Maximum R^2 ')  "
      ]
    },
    {
      "cell_type": "code",
      "execution_count": null,
      "metadata": {
        "id": "vZyC0P6ntj0a"
      },
      "outputs": [],
      "source": [
        "def f(order, test_data):\n",
        "    x_train, x_test, y_train, y_test = train_test_split(x_data, y_data_heat, test_size=test_data, random_state=0)\n",
        "    pr = PolynomialFeatures(degree=order)\n",
        "    x_train_pr = pr.fit_transform(x_train)\n",
        "    x_test_pr = pr.fit_transform(x_test)\n",
        "    poly = LinearRegression()\n",
        "    poly.fit(x_train_pr,y_train)\n",
        "    PollyPlot(x_train, x_test, y_train,y_test, poly, pr)"
      ]
    },
    {
      "cell_type": "markdown",
      "metadata": {
        "id": "yH6Nnh4qkkok"
      },
      "source": [
        "Dari diagram tersebut, dapat ditarik kesimpulan bahwa orde yang optimal unntuk digunakan adalah 3  dan 4, namun untuk menghindari terjadinya overfitting, maka nilai orde yang diambil adalah 2"
      ]
    },
    {
      "cell_type": "markdown",
      "metadata": {
        "id": "v5B1qGhxYVlI"
      },
      "source": [
        "###Ridge Regression"
      ]
    },
    {
      "cell_type": "code",
      "execution_count": null,
      "metadata": {
        "id": "qNWHpy1KXl7w"
      },
      "outputs": [],
      "source": [
        "pr=PolynomialFeatures(degree=2)\n",
        "x_train_pr=pr.fit_transform(x_train)\n",
        "x_test_pr=pr.fit_transform(x_test)"
      ]
    },
    {
      "cell_type": "markdown",
      "metadata": {
        "id": "GIJzaQYcuQpp"
      },
      "source": [
        "Menset polynomial features dengan drajat 2,serta mengambil data training dan testing dari drajat tersebut"
      ]
    },
    {
      "cell_type": "code",
      "execution_count": null,
      "metadata": {
        "id": "yQZEAf8dXymw"
      },
      "outputs": [],
      "source": [
        "from sklearn.linear_model import Ridge"
      ]
    },
    {
      "cell_type": "code",
      "execution_count": null,
      "metadata": {
        "id": "N2gkPhQMXzyi"
      },
      "outputs": [],
      "source": [
        "RigeModel=Ridge(alpha=0.5)"
      ]
    },
    {
      "cell_type": "markdown",
      "metadata": {
        "id": "5mMFhY-4ujFw"
      },
      "source": [
        "Menset nilai alpha dalam riidge regression dengan nilai 1\n",
        "\n",
        "\n",
        "\n",
        "*   Semakin besar alpha, maka kemungkinan terjadi under fitting semakin besar\n",
        "*   Semakin kecil alpha, maka kemungkinan terjadi over fitting semakin besar\n",
        "\n"
      ]
    },
    {
      "cell_type": "code",
      "execution_count": null,
      "metadata": {
        "colab": {
          "base_uri": "https://localhost:8080/"
        },
        "id": "YjV05y17X1dF",
        "outputId": "efabba2a-77d5-4b60-caf4-2bc6c93102c8"
      },
      "outputs": [
        {
          "output_type": "execute_result",
          "data": {
            "text/plain": [
              "Ridge(alpha=0.5)"
            ]
          },
          "metadata": {},
          "execution_count": 118
        }
      ],
      "source": [
        "RigeModel.fit(x_train_pr, y_train)"
      ]
    },
    {
      "cell_type": "code",
      "execution_count": null,
      "metadata": {
        "id": "5AEqwTShX2-8"
      },
      "outputs": [],
      "source": [
        "yhat = RigeModel.predict(x_test_pr)"
      ]
    },
    {
      "cell_type": "code",
      "execution_count": null,
      "metadata": {
        "colab": {
          "base_uri": "https://localhost:8080/"
        },
        "id": "x61HD4ghX4er",
        "outputId": "618b5344-1c17-4706-f040-294830f867d0"
      },
      "outputs": [
        {
          "output_type": "stream",
          "name": "stdout",
          "text": [
            "predicted: [[14.80172169]\n",
            " [10.05299077]\n",
            " [33.95355205]\n",
            " [21.5155349 ]]\n",
            "test set : [[15.18]\n",
            " [10.32]\n",
            " [37.26]\n",
            " [16.95]]\n"
          ]
        }
      ],
      "source": [
        "print('predicted:', yhat[0:4])\n",
        "print('test set :', y_test[0:4].values)"
      ]
    },
    {
      "cell_type": "code",
      "execution_count": null,
      "metadata": {
        "colab": {
          "base_uri": "https://localhost:8080/"
        },
        "id": "sm6abn17X53w",
        "outputId": "3b321a92-eb97-4e8a-f124-d5bcfdbb6444"
      },
      "outputs": [
        {
          "output_type": "stream",
          "name": "stderr",
          "text": [
            "100%|██████████| 6/6 [00:00<00:00, 27.25it/s, Test Score=0.955, Train Score=0.96]\n"
          ]
        }
      ],
      "source": [
        "from tqdm import tqdm\n",
        "\n",
        "Rsqu_test = []\n",
        "Rsqu_train = []\n",
        "dummy1 = []\n",
        "Alpha = 1 * np.array(range(0,6))\n",
        "pbar = tqdm(Alpha)\n",
        "\n",
        "for alpha in pbar:\n",
        "    RigeModel = Ridge(alpha=alpha) \n",
        "    RigeModel.fit(x_train_pr, y_train)\n",
        "    test_score, train_score = RigeModel.score(x_test_pr, y_test), RigeModel.score(x_train_pr, y_train)\n",
        "    \n",
        "    pbar.set_postfix({\"Test Score\": test_score, \"Train Score\": train_score})\n",
        "\n",
        "    Rsqu_test.append(test_score)\n",
        "    Rsqu_train.append(train_score)"
      ]
    },
    {
      "cell_type": "markdown",
      "metadata": {
        "id": "v92fRpXkxcfW"
      },
      "source": [
        "Melakukan pengujian data training dan testing pada nilai alpha 0 sampai 6, didapatkan nilai pada alpha ke-20 dengan test score 0.955 dan train score 0.96"
      ]
    },
    {
      "cell_type": "code",
      "execution_count": null,
      "metadata": {
        "colab": {
          "base_uri": "https://localhost:8080/"
        },
        "id": "qXQBswblYDtD",
        "outputId": "19cc0171-a731-47f8-a629-2c78b2b810ef"
      },
      "outputs": [
        {
          "output_type": "execute_result",
          "data": {
            "text/plain": [
              "<matplotlib.legend.Legend at 0x7fccd56c09d0>"
            ]
          },
          "metadata": {},
          "execution_count": 122
        },
        {
          "output_type": "display_data",
          "data": {
            "text/plain": [
              "<Figure size 864x720 with 1 Axes>"
            ],
            "image/png": "[encoded data removed]"
          },
          "metadata": {
            "needs_background": "light"
          }
        }
      ],
      "source": [
        "width = 12\n",
        "height = 10\n",
        "plt.figure(figsize=(width, height))\n",
        "\n",
        "plt.plot(Alpha,Rsqu_test, label='validation data  ')\n",
        "plt.plot(Alpha,Rsqu_train, 'r', label='training Data ')\n",
        "plt.xlabel('alpha')\n",
        "plt.ylabel('R^2')\n",
        "plt.legend()"
      ]
    },
    {
      "cell_type": "markdown",
      "metadata": {
        "id": "65aZdhWzYfD0"
      },
      "source": [
        "Nilai alpha yang dapat diambil antara range 0.1, hal ini dikarenakan data R^2 antara training dan testing berhimpit dan memiliki nilai yang cukup tinggi. Apabila nilai alpha kurang dari itu, maka dikhawatirkan terjadi overfitting"
      ]
    },
    {
      "cell_type": "markdown",
      "metadata": {
        "id": "P0MIZiCWyrOC"
      },
      "source": [
        "###Grid Search"
      ]
    },
    {
      "cell_type": "code",
      "execution_count": null,
      "metadata": {
        "id": "z99uSYmJy_it"
      },
      "outputs": [],
      "source": [
        "from sklearn.model_selection import GridSearchCV"
      ]
    },
    {
      "cell_type": "code",
      "execution_count": null,
      "metadata": {
        "colab": {
          "base_uri": "https://localhost:8080/"
        },
        "id": "oePsd-Ax0Lqm",
        "outputId": "ebbccc09-805c-4313-d7c1-eab4fe59616f"
      },
      "outputs": [
        {
          "output_type": "execute_result",
          "data": {
            "text/plain": [
              "[{'alpha': [0.1, 0.5, 1, 10, 100, 1000, 10000, 100000, 100000]}]"
            ]
          },
          "metadata": {},
          "execution_count": 124
        }
      ],
      "source": [
        "parameters1= [{'alpha': [0.1, 0.5, 1, 10, 100, 1000, 10000, 100000, 100000]}]\n",
        "parameters1"
      ]
    },
    {
      "cell_type": "code",
      "execution_count": null,
      "metadata": {
        "colab": {
          "base_uri": "https://localhost:8080/"
        },
        "id": "zs4pNH7Z0NpD",
        "outputId": "1e704499-ae02-497a-db87-30e6b2c3f320"
      },
      "outputs": [
        {
          "output_type": "execute_result",
          "data": {
            "text/plain": [
              "Ridge()"
            ]
          },
          "metadata": {},
          "execution_count": 125
        }
      ],
      "source": [
        "RR=Ridge()\n",
        "RR"
      ]
    },
    {
      "cell_type": "code",
      "execution_count": null,
      "metadata": {
        "id": "2Bp3f6Ju0O8X"
      },
      "outputs": [],
      "source": [
        "Grid1 = GridSearchCV(RR, parameters1,cv=5)"
      ]
    },
    {
      "cell_type": "code",
      "execution_count": null,
      "metadata": {
        "colab": {
          "base_uri": "https://localhost:8080/"
        },
        "id": "aHpn94zC0Q2T",
        "outputId": "591da350-be25-4412-a1da-42cd099d7eae"
      },
      "outputs": [
        {
          "output_type": "execute_result",
          "data": {
            "text/plain": [
              "GridSearchCV(cv=5, estimator=Ridge(),\n",
              "             param_grid=[{'alpha': [0.1, 0.5, 1, 10, 100, 1000, 10000, 100000,\n",
              "                                    100000]}])"
            ]
          },
          "metadata": {},
          "execution_count": 127
        }
      ],
      "source": [
        "Grid1.fit(x_data, y_data_heat)"
      ]
    },
    {
      "cell_type": "code",
      "execution_count": null,
      "metadata": {
        "colab": {
          "base_uri": "https://localhost:8080/"
        },
        "id": "plYSV5SH0eWt",
        "outputId": "fb6f9df9-06c3-4850-c77a-165b2fb77a23"
      },
      "outputs": [
        {
          "output_type": "execute_result",
          "data": {
            "text/plain": [
              "Ridge(alpha=0.1)"
            ]
          },
          "metadata": {},
          "execution_count": 128
        }
      ],
      "source": [
        "BestRR=Grid1.best_estimator_\n",
        "BestRR"
      ]
    },
    {
      "cell_type": "markdown",
      "source": [
        "Pemilihan nilai alpha terbaik, jika menggunakan grid search adalah 0.1"
      ],
      "metadata": {
        "id": "RcFuEDmf8DfI"
      }
    },
    {
      "cell_type": "code",
      "source": [
        ""
      ],
      "metadata": {
        "id": "dWSO2QjYKTa0"
      },
      "execution_count": null,
      "outputs": []
    },
    {
      "cell_type": "code",
      "execution_count": null,
      "metadata": {
        "colab": {
          "base_uri": "https://localhost:8080/"
        },
        "id": "ZyHacbd-0kju",
        "outputId": "2ae5616c-19e5-4f2e-ac4c-58681e03b0b1"
      },
      "outputs": [
        {
          "output_type": "execute_result",
          "data": {
            "text/plain": [
              "0.9070583112305306"
            ]
          },
          "metadata": {},
          "execution_count": 129
        }
      ],
      "source": [
        "BestRR.score(x_test, y_test)"
      ]
    },
    {
      "cell_type": "markdown",
      "source": [
        "Nilai alpha 0.1 yang dihasilkan dari pemilihan grid search, akan menghasilkan RR Score yang terbaik, yaitu 0.907"
      ],
      "metadata": {
        "id": "IszBBAY48Jfd"
      }
    },
    {
      "cell_type": "markdown",
      "source": [
        "##Kesimpulan\n",
        "- Pembagian data training dan testing dengan komposisi masing-masing 65% dan 35% menghasilkan nilai R^2 pada data testing sebesar 0.903 dan nilai R^2 pada data training sebesar 0.92. Hal ini menandakan bahwa data training dan testing sudah memiliki nilai regresi linear yang akurat.\n",
        "- Pembagian data menjadi 5 folds menghasilkan cross validation dengan nilai rata-rata 0.89 dan nilai tertinggi 0.924. Hal ini menandakan bahwa cross validation prediction untuk membuatan model linear regression sudah mendekati kebenaran\n",
        "- Polynomial Score bernilai 0.99 pada data training dan testing sehingga model mendekati kesesuaian\n",
        "- Nilai orde terbaik untuk polynomial feature yang paling optimal (untuk terhindar dari overfitting) adalah 2 dan menghasilkan nilai R^2 sebesar 0.95\n",
        "-  Dengan meggunakan orde 2, diambil nilai alpha 0.1 yang menghasilkan R^2 optimal sebesar 0.99, selain itu. Dibuktikan juga dengan menggunakan ridge search menghasilkan nilai Ridge Regression Score terbaik yaitu 0.907\n",
        "- Dikarenakan data heating load dan cooling load hampir serupa, maka model prediksi ini dapat digunakan pula untuk cooling load. Hal ini dikarenakan setelah dicoba dengan metode yang sama, menghasilkan hasil dan kesimpulan yang sama pula"
      ],
      "metadata": {
        "id": "jZMTl6mfKREn"
      }
    }
  ],
  "metadata": {
    "colab": {
      "collapsed_sections": [
        "glv7BNAL1Vvu",
        "ZIqsuJZW2fcq",
        "00XuabVC2y7G",
        "Wj6Zn5Z82SMK",
        "9czXLyXM7AQD",
        "BcRKxQ6LcpXe",
        "vIrCL3Izc1o2",
        "p2-wEeF2e7SZ",
        "nKPA9BUyxBhR",
        "HKHDfQjvjtPh",
        "F0Zn2MfPnGkK",
        "QjG5VfOagbyF",
        "9d5EyErgf5ks",
        "2PAVQaEGlHOj",
        "dcDinZUdm_e5",
        "_OaAZrN2W6xg",
        "7IYbyrB_W0_2",
        "ta8HDT6vr8_X",
        "v5B1qGhxYVlI",
        "P0MIZiCWyrOC"
      ],
      "name": "Proyek_Akhir.ipynb",
      "provenance": []
    },
    "kernelspec": {
      "display_name": "Python 3",
      "name": "python3"
    },
    "language_info": {
      "name": "python"
    }
  },
  "nbformat": 4,
  "nbformat_minor": 0
}